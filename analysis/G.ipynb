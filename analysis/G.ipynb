{
 "cells": [
  {
   "cell_type": "markdown",
   "metadata": {},
   "source": [
    "Get the raw data from Bear"
   ]
  },
  {
   "cell_type": "code",
   "execution_count": 9,
   "metadata": {},
   "outputs": [],
   "source": [
    "import pandas as pd\n",
    "\n",
    "raw_data = pd.read_csv(\"https://raw.githubusercontent.com/bear-revels/immo-eliza-scraping-Python_Pricers/main/data/all_property_details.csv\")\n"
   ]
  },
  {
   "cell_type": "markdown",
   "metadata": {},
   "source": [
    "Function to check duplicates where id is different"
   ]
  },
  {
   "cell_type": "code",
   "execution_count": 10,
   "metadata": {},
   "outputs": [],
   "source": [
    "\n",
    "def check_duplicates(df):\n",
    "    # Check if DataFrame is empty or not provided\n",
    "    if df.empty:\n",
    "        print(\"Error: DataFrame is empty or not provided.\")\n",
    "        return None\n",
    "\n",
    "    # Define the subset of columns to consider when checking for duplicates\n",
    "    subset_cols = df.columns.difference(['ID', 'Property url'])\n",
    "\n",
    "    # Check for duplicate entries based on all columns except 'ID' and 'Property url'\n",
    "    duplicate_rows = df[df.duplicated(subset=subset_cols, keep=False)]\n",
    "\n",
    "    # Save duplicate entries to CSV file\n",
    "    if not duplicate_rows.empty:\n",
    "        duplicate_rows.to_csv('duplicate_entries.csv', index=False)\n",
    "        print(\"Duplicate entries saved to 'duplicate_entries.csv'.\")\n",
    "    else:\n",
    "        print(\"No duplicate entries found.\")\n",
    "\n",
    "    return duplicate_rows\n"
   ]
  },
  {
   "cell_type": "code",
   "execution_count": 11,
   "metadata": {},
   "outputs": [
    {
     "name": "stdout",
     "output_type": "stream",
     "text": [
      "Duplicate entries saved to 'duplicate_entries.csv'.\n"
     ]
    }
   ],
   "source": [
    "duplicate_entries = check_duplicates(raw_data)"
   ]
  },
  {
   "cell_type": "markdown",
   "metadata": {},
   "source": [
    "There are 500+ entries, not sure we should remove all.  I created a branch called check_duplicates in case we want to incorporate this."
   ]
  }
 ],
 "metadata": {
  "kernelspec": {
   "display_name": "Python 3",
   "language": "python",
   "name": "python3"
  },
  "language_info": {
   "codemirror_mode": {
    "name": "ipython",
    "version": 3
   },
   "file_extension": ".py",
   "mimetype": "text/x-python",
   "name": "python",
   "nbconvert_exporter": "python",
   "pygments_lexer": "ipython3",
   "version": "3.12.1"
  }
 },
 "nbformat": 4,
 "nbformat_minor": 2
}
