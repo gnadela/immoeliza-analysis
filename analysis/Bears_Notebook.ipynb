{
 "cells": [
  {
   "cell_type": "code",
   "execution_count": 19,
   "metadata": {},
   "outputs": [],
   "source": [
    "import pandas as pd\n",
    "raw_data = pd.read_csv(\"../src/raw/raw_data.csv\")"
   ]
  },
  {
   "cell_type": "code",
   "execution_count": 20,
   "metadata": {},
   "outputs": [
    {
     "name": "stdout",
     "output_type": "stream",
     "text": [
      "<class 'pandas.core.frame.DataFrame'>\n",
      "RangeIndex: 18598 entries, 0 to 18597\n",
      "Data columns (total 33 columns):\n",
      " #   Column            Non-Null Count  Dtype  \n",
      "---  ------            --------------  -----  \n",
      " 0   Unnamed: 0        18598 non-null  int64  \n",
      " 1   ID                18598 non-null  int64  \n",
      " 2   Street            15939 non-null  object \n",
      " 3   HouseNumber       15692 non-null  object \n",
      " 4   Box               4136 non-null   object \n",
      " 5   Floor             8816 non-null   float64\n",
      " 6   City              18598 non-null  object \n",
      " 7   PostalCode        18598 non-null  int64  \n",
      " 8   Region            18598 non-null  object \n",
      " 9   District          18598 non-null  object \n",
      " 10  Province          18598 non-null  object \n",
      " 11  PropertyType      18598 non-null  object \n",
      " 12  PropertySubType   18598 non-null  object \n",
      " 13  Price             18598 non-null  int64  \n",
      " 14  SaleType          18598 non-null  object \n",
      " 15  ConstructionYear  14272 non-null  float64\n",
      " 16  BedroomCount      18598 non-null  int64  \n",
      " 17  LivingArea        18080 non-null  float64\n",
      " 18  KitchenType       13367 non-null  object \n",
      " 19  Furnished         7607 non-null   float64\n",
      " 20  Fireplace         18598 non-null  int64  \n",
      " 21  Terrace           12235 non-null  float64\n",
      " 22  TerraceArea       8522 non-null   float64\n",
      " 23  Garden            5140 non-null   float64\n",
      " 24  GardenArea        9771 non-null   float64\n",
      " 25  Facades           13956 non-null  float64\n",
      " 26  SwimmingPool      7915 non-null   float64\n",
      " 27  Condition         14784 non-null  object \n",
      " 28  EPCScore          16380 non-null  object \n",
      " 29  Latitude          15936 non-null  float64\n",
      " 30  Longitude         15936 non-null  float64\n",
      " 31  PropertyUrl       0 non-null      float64\n",
      " 32  Property url      18598 non-null  object \n",
      "dtypes: float64(13), int64(6), object(14)\n",
      "memory usage: 4.7+ MB\n"
     ]
    }
   ],
   "source": [
    "raw_data.info()"
   ]
  },
  {
   "cell_type": "code",
   "execution_count": 1,
   "metadata": {},
   "outputs": [
    {
     "name": "stdout",
     "output_type": "stream",
     "text": [
      "<class 'pandas.core.frame.DataFrame'>\n",
      "RangeIndex: 18598 entries, 0 to 18597\n",
      "Data columns (total 33 columns):\n",
      " #   Column            Non-Null Count  Dtype  \n",
      "---  ------            --------------  -----  \n",
      " 0   Unnamed: 0        18598 non-null  int64  \n",
      " 1   ID                18598 non-null  int64  \n",
      " 2   Street            15939 non-null  object \n",
      " 3   HouseNumber       15692 non-null  object \n",
      " 4   Box               4136 non-null   object \n",
      " 5   Floor             8816 non-null   float64\n",
      " 6   City              18598 non-null  object \n",
      " 7   PostalCode        18598 non-null  int64  \n",
      " 8   Region            18598 non-null  object \n",
      " 9   District          18598 non-null  object \n",
      " 10  Province          18598 non-null  object \n",
      " 11  PropertyType      18598 non-null  object \n",
      " 12  PropertySubType   18598 non-null  object \n",
      " 13  Price             18598 non-null  int64  \n",
      " 14  SaleType          18598 non-null  object \n",
      " 15  ConstructionYear  14272 non-null  float64\n",
      " 16  BedroomCount      18598 non-null  int64  \n",
      " 17  LivingArea        18080 non-null  float64\n",
      " 18  KitchenType       13367 non-null  object \n",
      " 19  Furnished         7607 non-null   float64\n",
      " 20  Fireplace         18598 non-null  int64  \n",
      " 21  Terrace           12235 non-null  float64\n",
      " 22  TerraceArea       8522 non-null   float64\n",
      " 23  Garden            5140 non-null   float64\n",
      " 24  GardenArea        9771 non-null   float64\n",
      " 25  Facades           13956 non-null  float64\n",
      " 26  SwimmingPool      7915 non-null   float64\n",
      " 27  Condition         14784 non-null  object \n",
      " 28  EPCScore          16380 non-null  object \n",
      " 29  Latitude          15936 non-null  float64\n",
      " 30  Longitude         15936 non-null  float64\n",
      " 31  PropertyUrl       0 non-null      float64\n",
      " 32  Property url      18598 non-null  object \n",
      "dtypes: float64(13), int64(6), object(14)\n",
      "memory usage: 4.7+ MB\n"
     ]
    },
    {
     "name": "stderr",
     "output_type": "stream",
     "text": [
      "C:\\Users\\bearr\\AppData\\Local\\Temp\\ipykernel_3440\\1926914205.py:1: DeprecationWarning: \n",
      "Pyarrow will become a required dependency of pandas in the next major release of pandas (pandas 3.0),\n",
      "(to allow more performant data types, such as the Arrow string type, and better interoperability with other libraries)\n",
      "but was not found to be installed on your system.\n",
      "If this would cause problems for you,\n",
      "please provide us feedback at https://github.com/pandas-dev/pandas/issues/54466\n",
      "        \n",
      "  import pandas as pd\n"
     ]
    }
   ],
   "source": [
    "import pandas as pd\n",
    "\n",
    "# Read the raw data\n",
    "raw_data = pd.read_csv(\"../src/raw/raw_data.csv\")\n",
    "\n",
    "raw_data.info()\n"
   ]
  },
  {
   "cell_type": "code",
   "execution_count": null,
   "metadata": {},
   "outputs": [],
   "source": []
  },
  {
   "cell_type": "code",
   "execution_count": null,
   "metadata": {},
   "outputs": [],
   "source": []
  }
 ],
 "metadata": {
  "kernelspec": {
   "display_name": "Python 3",
   "language": "python",
   "name": "python3"
  },
  "language_info": {
   "codemirror_mode": {
    "name": "ipython",
    "version": 3
   },
   "file_extension": ".py",
   "mimetype": "text/x-python",
   "name": "python",
   "nbconvert_exporter": "python",
   "pygments_lexer": "ipython3",
   "version": "3.12.1"
  }
 },
 "nbformat": 4,
 "nbformat_minor": 2
}
