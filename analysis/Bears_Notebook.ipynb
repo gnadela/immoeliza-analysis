{
 "cells": [
  {
   "cell_type": "code",
   "execution_count": 19,
   "metadata": {},
   "outputs": [],
   "source": [
    "import pandas as pd\n",
    "raw_data = pd.read_csv(\"../src/raw/raw_data.csv\")"
   ]
  },
  {
   "cell_type": "code",
   "execution_count": 20,
   "metadata": {},
   "outputs": [
    {
     "name": "stdout",
     "output_type": "stream",
     "text": [
      "<class 'pandas.core.frame.DataFrame'>\n",
      "RangeIndex: 18598 entries, 0 to 18597\n",
      "Data columns (total 33 columns):\n",
      " #   Column            Non-Null Count  Dtype  \n",
      "---  ------            --------------  -----  \n",
      " 0   Unnamed: 0        18598 non-null  int64  \n",
      " 1   ID                18598 non-null  int64  \n",
      " 2   Street            15939 non-null  object \n",
      " 3   HouseNumber       15692 non-null  object \n",
      " 4   Box               4136 non-null   object \n",
      " 5   Floor             8816 non-null   float64\n",
      " 6   City              18598 non-null  object \n",
      " 7   PostalCode        18598 non-null  int64  \n",
      " 8   Region            18598 non-null  object \n",
      " 9   District          18598 non-null  object \n",
      " 10  Province          18598 non-null  object \n",
      " 11  PropertyType      18598 non-null  object \n",
      " 12  PropertySubType   18598 non-null  object \n",
      " 13  Price             18598 non-null  int64  \n",
      " 14  SaleType          18598 non-null  object \n",
      " 15  ConstructionYear  14272 non-null  float64\n",
      " 16  BedroomCount      18598 non-null  int64  \n",
      " 17  LivingArea        18080 non-null  float64\n",
      " 18  KitchenType       13367 non-null  object \n",
      " 19  Furnished         7607 non-null   float64\n",
      " 20  Fireplace         18598 non-null  int64  \n",
      " 21  Terrace           12235 non-null  float64\n",
      " 22  TerraceArea       8522 non-null   float64\n",
      " 23  Garden            5140 non-null   float64\n",
      " 24  GardenArea        9771 non-null   float64\n",
      " 25  Facades           13956 non-null  float64\n",
      " 26  SwimmingPool      7915 non-null   float64\n",
      " 27  Condition         14784 non-null  object \n",
      " 28  EPCScore          16380 non-null  object \n",
      " 29  Latitude          15936 non-null  float64\n",
      " 30  Longitude         15936 non-null  float64\n",
      " 31  PropertyUrl       0 non-null      float64\n",
      " 32  Property url      18598 non-null  object \n",
      "dtypes: float64(13), int64(6), object(14)\n",
      "memory usage: 4.7+ MB\n"
     ]
    }
   ],
   "source": [
    "raw_data.info()"
   ]
  },
  {
   "cell_type": "code",
   "execution_count": 26,
   "metadata": {},
   "outputs": [
    {
     "ename": "ValueError",
     "evalue": "Must specify a fill 'value' or 'method'.",
     "output_type": "error",
     "traceback": [
      "\u001b[1;31m---------------------------------------------------------------------------\u001b[0m",
      "\u001b[1;31mValueError\u001b[0m                                Traceback (most recent call last)",
      "Cell \u001b[1;32mIn[26], line 22\u001b[0m\n\u001b[0;32m     19\u001b[0m object_columns \u001b[38;5;241m=\u001b[39m raw_data[none_fill_columns]\u001b[38;5;241m.\u001b[39mselect_dtypes(exclude\u001b[38;5;241m=\u001b[39m\u001b[38;5;124m'\u001b[39m\u001b[38;5;124mnumber\u001b[39m\u001b[38;5;124m'\u001b[39m)\u001b[38;5;241m.\u001b[39mcolumns\n\u001b[0;32m     21\u001b[0m \u001b[38;5;66;03m# Fill missing values with None for object columns\u001b[39;00m\n\u001b[1;32m---> 22\u001b[0m raw_data[object_columns] \u001b[38;5;241m=\u001b[39m \u001b[43mraw_data\u001b[49m\u001b[43m[\u001b[49m\u001b[43mobject_columns\u001b[49m\u001b[43m]\u001b[49m\u001b[38;5;241;43m.\u001b[39;49m\u001b[43mfillna\u001b[49m\u001b[43m(\u001b[49m\u001b[43mvalue\u001b[49m\u001b[38;5;241;43m=\u001b[39;49m\u001b[38;5;28;43;01mNone\u001b[39;49;00m\u001b[43m)\u001b[49m\n\u001b[0;32m     24\u001b[0m \u001b[38;5;66;03m# Fill missing values with 0 for numeric columns\u001b[39;00m\n\u001b[0;32m     25\u001b[0m raw_data[numeric_columns] \u001b[38;5;241m=\u001b[39m raw_data[numeric_columns]\u001b[38;5;241m.\u001b[39mfillna(value\u001b[38;5;241m=\u001b[39m\u001b[38;5;241m0\u001b[39m)\n",
      "File \u001b[1;32mc:\\Users\\bearr\\AppData\\Local\\Programs\\Python\\Python312\\Lib\\site-packages\\pandas\\core\\generic.py:7287\u001b[0m, in \u001b[0;36mNDFrame.fillna\u001b[1;34m(self, value, method, axis, inplace, limit, downcast)\u001b[0m\n\u001b[0;32m   7280\u001b[0m         \u001b[38;5;28;01mif\u001b[39;00m ctr \u001b[38;5;241m<\u001b[39m\u001b[38;5;241m=\u001b[39m ref_count:\n\u001b[0;32m   7281\u001b[0m             warnings\u001b[38;5;241m.\u001b[39mwarn(\n\u001b[0;32m   7282\u001b[0m                 _chained_assignment_warning_method_msg,\n\u001b[0;32m   7283\u001b[0m                 \u001b[38;5;167;01mFutureWarning\u001b[39;00m,\n\u001b[0;32m   7284\u001b[0m                 stacklevel\u001b[38;5;241m=\u001b[39m\u001b[38;5;241m2\u001b[39m,\n\u001b[0;32m   7285\u001b[0m             )\n\u001b[1;32m-> 7287\u001b[0m value, method \u001b[38;5;241m=\u001b[39m \u001b[43mvalidate_fillna_kwargs\u001b[49m\u001b[43m(\u001b[49m\u001b[43mvalue\u001b[49m\u001b[43m,\u001b[49m\u001b[43m \u001b[49m\u001b[43mmethod\u001b[49m\u001b[43m)\u001b[49m\n\u001b[0;32m   7288\u001b[0m \u001b[38;5;28;01mif\u001b[39;00m method \u001b[38;5;129;01mis\u001b[39;00m \u001b[38;5;129;01mnot\u001b[39;00m \u001b[38;5;28;01mNone\u001b[39;00m:\n\u001b[0;32m   7289\u001b[0m     warnings\u001b[38;5;241m.\u001b[39mwarn(\n\u001b[0;32m   7290\u001b[0m         \u001b[38;5;124mf\u001b[39m\u001b[38;5;124m\"\u001b[39m\u001b[38;5;132;01m{\u001b[39;00m\u001b[38;5;28mtype\u001b[39m(\u001b[38;5;28mself\u001b[39m)\u001b[38;5;241m.\u001b[39m\u001b[38;5;18m__name__\u001b[39m\u001b[38;5;132;01m}\u001b[39;00m\u001b[38;5;124m.fillna with \u001b[39m\u001b[38;5;124m'\u001b[39m\u001b[38;5;124mmethod\u001b[39m\u001b[38;5;124m'\u001b[39m\u001b[38;5;124m is deprecated and \u001b[39m\u001b[38;5;124m\"\u001b[39m\n\u001b[0;32m   7291\u001b[0m         \u001b[38;5;124m\"\u001b[39m\u001b[38;5;124mwill raise in a future version. Use obj.ffill() or obj.bfill() \u001b[39m\u001b[38;5;124m\"\u001b[39m\n\u001b[1;32m   (...)\u001b[0m\n\u001b[0;32m   7294\u001b[0m         stacklevel\u001b[38;5;241m=\u001b[39mfind_stack_level(),\n\u001b[0;32m   7295\u001b[0m     )\n",
      "File \u001b[1;32mc:\\Users\\bearr\\AppData\\Local\\Programs\\Python\\Python312\\Lib\\site-packages\\pandas\\util\\_validators.py:293\u001b[0m, in \u001b[0;36mvalidate_fillna_kwargs\u001b[1;34m(value, method, validate_scalar_dict_value)\u001b[0m\n\u001b[0;32m    290\u001b[0m \u001b[38;5;28;01mfrom\u001b[39;00m \u001b[38;5;21;01mpandas\u001b[39;00m\u001b[38;5;21;01m.\u001b[39;00m\u001b[38;5;21;01mcore\u001b[39;00m\u001b[38;5;21;01m.\u001b[39;00m\u001b[38;5;21;01mmissing\u001b[39;00m \u001b[38;5;28;01mimport\u001b[39;00m clean_fill_method\n\u001b[0;32m    292\u001b[0m \u001b[38;5;28;01mif\u001b[39;00m value \u001b[38;5;129;01mis\u001b[39;00m \u001b[38;5;28;01mNone\u001b[39;00m \u001b[38;5;129;01mand\u001b[39;00m method \u001b[38;5;129;01mis\u001b[39;00m \u001b[38;5;28;01mNone\u001b[39;00m:\n\u001b[1;32m--> 293\u001b[0m     \u001b[38;5;28;01mraise\u001b[39;00m \u001b[38;5;167;01mValueError\u001b[39;00m(\u001b[38;5;124m\"\u001b[39m\u001b[38;5;124mMust specify a fill \u001b[39m\u001b[38;5;124m'\u001b[39m\u001b[38;5;124mvalue\u001b[39m\u001b[38;5;124m'\u001b[39m\u001b[38;5;124m or \u001b[39m\u001b[38;5;124m'\u001b[39m\u001b[38;5;124mmethod\u001b[39m\u001b[38;5;124m'\u001b[39m\u001b[38;5;124m.\u001b[39m\u001b[38;5;124m\"\u001b[39m)\n\u001b[0;32m    294\u001b[0m \u001b[38;5;28;01mif\u001b[39;00m value \u001b[38;5;129;01mis\u001b[39;00m \u001b[38;5;28;01mNone\u001b[39;00m \u001b[38;5;129;01mand\u001b[39;00m method \u001b[38;5;129;01mis\u001b[39;00m \u001b[38;5;129;01mnot\u001b[39;00m \u001b[38;5;28;01mNone\u001b[39;00m:\n\u001b[0;32m    295\u001b[0m     method \u001b[38;5;241m=\u001b[39m clean_fill_method(method)\n",
      "\u001b[1;31mValueError\u001b[0m: Must specify a fill 'value' or 'method'."
     ]
    }
   ],
   "source": [
    "import pandas as pd\n",
    "\n",
    "# Read the raw data\n",
    "raw_data = pd.read_csv(\"../src/raw/raw_data.csv\")\n",
    "\n",
    "# 1. Remove duplicates in the 'ID' column\n",
    "raw_data.drop_duplicates(subset=['ID'], inplace=True)\n",
    "\n",
    "# 2. Remove the columns 'PropertyURL', 'Street', 'House', 'Box', and 'Floor'\n",
    "raw_data.drop(columns=['PropertyUrl', 'Street', 'HouseNumber', 'Box', 'Floor'], inplace=True)\n",
    "\n",
    "# 3. Convert empty values to 0 for specified columns\n",
    "zero_fill_columns = ['Furnished', 'Fireplace', 'Terrace', 'TerraceArea', 'Garden', 'GardenArea', 'SwimmingPool']\n",
    "raw_data[zero_fill_columns] = raw_data[zero_fill_columns].fillna(0)\n",
    "\n",
    "# 4. Convert empty values to None for specified columns\n",
    "none_fill_columns = ['ConstructionYear', 'BedroomCount', 'LivingArea', 'KitchenType', 'Facades', 'Condition', 'EPCScore']\n",
    "numeric_columns = raw_data[none_fill_columns].select_dtypes(include='number').columns\n",
    "object_columns = raw_data[none_fill_columns].select_dtypes(exclude='number').columns\n",
    "\n",
    "# Fill missing values with None for object columns\n",
    "raw_data[object_columns] = raw_data[object_columns].fillna(value=None)\n",
    "\n",
    "# Fill missing values with 0 for numeric columns\n",
    "raw_data[numeric_columns] = raw_data[numeric_columns].fillna(value=0)\n",
    "\n",
    "# 5. Convert specified columns to int64 type\n",
    "int_columns = ['ID', 'PostalCode', 'Price', 'ConstructionYear', 'BedroomCount', 'LivingArea', 'Furnished', 'Fireplace', 'Terrace', 'TerraceArea', 'Garden', 'GardenArea', 'Facades', 'SwimmingPool', 'Latitude', 'Longitude']\n",
    "raw_data[int_columns] = raw_data[int_columns].astype('int64')\n",
    "\n",
    "# 6. Convert specified columns to str type\n",
    "str_columns = ['City', 'Region', 'District', 'Province', 'PropertyType', 'PropertySubType', 'SaleType', 'KitchenType', 'Condition', 'EPCScore', 'Property url']\n",
    "raw_data[str_columns] = raw_data[str_columns].astype('str')\n",
    "\n",
    "# 7. Adjust text format\n",
    "raw_data[str_columns] = raw_data[str_columns].apply(lambda x: x.str.title())\n",
    "\n",
    "# Display the cleaned DataFrame\n",
    "raw_data.info()\n"
   ]
  },
  {
   "cell_type": "code",
   "execution_count": null,
   "metadata": {},
   "outputs": [],
   "source": []
  },
  {
   "cell_type": "code",
   "execution_count": null,
   "metadata": {},
   "outputs": [],
   "source": []
  }
 ],
 "metadata": {
  "kernelspec": {
   "display_name": "Python 3",
   "language": "python",
   "name": "python3"
  },
  "language_info": {
   "codemirror_mode": {
    "name": "ipython",
    "version": 3
   },
   "file_extension": ".py",
   "mimetype": "text/x-python",
   "name": "python",
   "nbconvert_exporter": "python",
   "pygments_lexer": "ipython3",
   "version": "3.12.1"
  }
 },
 "nbformat": 4,
 "nbformat_minor": 2
}
