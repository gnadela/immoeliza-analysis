{
 "cells": [
  {
   "cell_type": "code",
   "execution_count": 19,
   "metadata": {},
   "outputs": [],
   "source": [
    "# Setup\n",
    "import pandas as pd\n",
    "\n",
    "data = pd.read_csv('../src/cleaned_data.csv')\n",
    "raw = pd.read_csv('../src/raw_data.csv')\n",
    "popdense_data = pd.read_csv('../src/cleaned_with_popdensity.csv')\n",
    "model_data = pd.read_csv('../src/model_data.csv')"
   ]
  },
  {
   "cell_type": "code",
   "execution_count": 8,
   "metadata": {},
   "outputs": [],
   "source": [
    "import plotly.express as px\n",
    "import scipy.stats as stats"
   ]
  },
  {
   "cell_type": "code",
   "execution_count": null,
   "metadata": {},
   "outputs": [],
   "source": []
  },
  {
   "cell_type": "markdown",
   "metadata": {},
   "source": [
    "# Pt1: Exploriation"
   ]
  },
  {
   "cell_type": "code",
   "execution_count": null,
   "metadata": {},
   "outputs": [],
   "source": [
    "# data.head()\n",
    "model_data.nunique()\n",
    "# data.info()\n"
   ]
  },
  {
   "cell_type": "code",
   "execution_count": null,
   "metadata": {},
   "outputs": [],
   "source": [
    "data.columns"
   ]
  },
  {
   "cell_type": "code",
   "execution_count": null,
   "metadata": {},
   "outputs": [],
   "source": [
    "# data['PropertySubType'].unique()\n",
    "# raw_data['District'].unique()\n",
    "# data['Condition'].unique()\n",
    "data['SaleType'].unique()\n"
   ]
  },
  {
   "cell_type": "code",
   "execution_count": null,
   "metadata": {},
   "outputs": [],
   "source": [
    "# data['Condition'].value_counts()\n",
    "# data['SaleType'].value_counts()\n",
    "data['ConstructionYear'].value_counts()"
   ]
  },
  {
   "cell_type": "code",
   "execution_count": 83,
   "metadata": {},
   "outputs": [
    {
     "data": {
      "text/plain": [
       "1517.7784008195395"
      ]
     },
     "execution_count": 83,
     "metadata": {},
     "output_type": "execute_result"
    }
   ],
   "source": [
    "data['ConstructionYear'].mean()"
   ]
  },
  {
   "cell_type": "markdown",
   "metadata": {},
   "source": [
    "# Pt 2: Exploring stats"
   ]
  },
  {
   "cell_type": "markdown",
   "metadata": {},
   "source": [
    "How many observations and features do you have?\n"
   ]
  },
  {
   "cell_type": "code",
   "execution_count": null,
   "metadata": {},
   "outputs": [],
   "source": []
  },
  {
   "cell_type": "code",
   "execution_count": 28,
   "metadata": {},
   "outputs": [
    {
     "data": {
      "text/plain": [
       "(35014, 36)"
      ]
     },
     "execution_count": 28,
     "metadata": {},
     "output_type": "execute_result"
    }
   ],
   "source": [
    "model_data.shape"
   ]
  },
  {
   "cell_type": "markdown",
   "metadata": {},
   "source": [
    "What is the proportion of missing values per column? -> double check for bias in proportion: poolspace will be missing for most appartments I guess, change to None instead of missing\n"
   ]
  },
  {
   "cell_type": "code",
   "execution_count": 64,
   "metadata": {},
   "outputs": [],
   "source": [
    "# Proportion = n / total (18598 or data.shape[0]) *100\n",
    "for column in data.columns:\n",
    "    missingprop = data[column].isna().sum() / data.shape[0] *100\n",
    "    if missingprop > 0 :\n",
    "        print(f'{column}: {round(missingprop, 2)}%')"
   ]
  },
  {
   "cell_type": "markdown",
   "metadata": {},
   "source": [
    "What variables are most subject to outliers?\n"
   ]
  },
  {
   "cell_type": "code",
   "execution_count": 30,
   "metadata": {},
   "outputs": [
    {
     "name": "stdout",
     "output_type": "stream",
     "text": [
      "Price\n",
      "5271 outliers\n",
      "below Q1 - 1.5*IQR: 0\n",
      "above Q3 + 1.5*IQR: 5271\n",
      "ConstructionYear\n",
      "807 outliers\n",
      "below Q1 - 1.5*IQR: 807\n",
      "above Q3 + 1.5*IQR: 0\n",
      "BedroomCount\n",
      "1091 outliers\n",
      "below Q1 - 1.5*IQR: 0\n",
      "above Q3 + 1.5*IQR: 1091\n",
      "LivingArea\n",
      "3889 outliers\n",
      "below Q1 - 1.5*IQR: 0\n",
      "above Q3 + 1.5*IQR: 3889\n",
      "TerraceArea\n",
      "8524 outliers\n",
      "below Q1 - 1.5*IQR: 0\n",
      "above Q3 + 1.5*IQR: 8524\n",
      "GardenArea\n",
      "6888 outliers\n",
      "below Q1 - 1.5*IQR: 0\n",
      "above Q3 + 1.5*IQR: 6888\n",
      "Facades\n",
      "19 outliers\n",
      "below Q1 - 1.5*IQR: 0\n",
      "above Q3 + 1.5*IQR: 19\n"
     ]
    }
   ],
   "source": [
    "# calculate IQR for column\n",
    "for column in data.columns:\n",
    "    if column in ['Price', 'ConstructionYear','BedroomCount', 'LivingArea', 'TerraceArea', 'GardenArea', 'Facades',]:\n",
    "        print(column)\n",
    "        # setting IQR\n",
    "        data[column].dropna()\n",
    "        Q1 = data[column].quantile(0.25)\n",
    "        Q3 = data[column].quantile(0.75)\n",
    "        IQR = Q3 - Q1\n",
    "        # identify outliers\n",
    "        threshold = 1.5\n",
    "        outliers = data[(data[column] < Q1 - threshold * IQR) | (data[column] > Q3 + threshold * IQR)]\n",
    "        lower = data[(data[column] < Q1 - threshold * IQR)]\n",
    "        upper = data[(data[column] > Q3 + threshold * IQR)]\n",
    "        print(len(outliers), f'outliers\\nbelow Q1 - 1.5*IQR: {len(lower)}\\nabove Q3 + 1.5*IQR: {len(upper)}')\n",
    "        # if column == 'ConstructionYear':\n",
    "        #     print(lower[column])\n",
    "        #     print(upper[column])"
   ]
  },
  {
   "cell_type": "code",
   "execution_count": null,
   "metadata": {},
   "outputs": [],
   "source": [
    "for column in raw.columns:\n",
    "    if column in ['Price', 'ConstructionYear','BedroomCount', 'LivingArea', 'TerraceArea', 'GardenArea', 'Facades',]:\n",
    "        print(column)\n",
    "        # setting IQR\n",
    "        raw[column].dropna()\n",
    "        Q1 = raw[column].quantile(0.25)\n",
    "        Q3 = raw[column].quantile(0.75)\n",
    "        IQR = Q3 - Q1\n",
    "        # identify outliers\n",
    "        threshold = 1.5\n",
    "        outliers = raw[(raw[column] < Q1 - threshold * IQR) | (raw[column] > Q3 + threshold * IQR)]\n",
    "        lower = raw[(raw[column] < Q1 - threshold * IQR)]\n",
    "        upper = raw[(raw[column] > Q3 + threshold * IQR)]\n",
    "        # print(len(outliers), f'outliers \\nbelow Q1 - 1.5*IQR: {len(lower)}\\nabove Q3 + 1.5*IQR: {len(upper)}')\n",
    "        if column == 'ConstructionYear':\n",
    "            print(lower[column])\n",
    "            print(upper[column])\n",
    "\n"
   ]
  },
  {
   "cell_type": "markdown",
   "metadata": {},
   "source": [
    "What is the correlation between the variables and the price? Why do you think some variables are more correlated than others?\n"
   ]
  },
  {
   "cell_type": "code",
   "execution_count": 116,
   "metadata": {},
   "outputs": [
    {
     "name": "stdout",
     "output_type": "stream",
     "text": [
      "         Unnamed: 0            ID    PostalCode         Price  \\\n",
      "count  18547.000000  1.854700e+04  18547.000000  1.854700e+04   \n",
      "mean    9293.025718  1.098044e+07   4980.949318  5.029269e+05   \n",
      "std     5367.315589  2.351815e+05   3235.516327  5.782303e+05   \n",
      "min        0.000000  7.710166e+06   1000.000000  9.980000e+02   \n",
      "25%     4641.500000  1.092304e+07   1731.000000  2.450000e+05   \n",
      "50%     9302.000000  1.105838e+07   4300.000000  3.490000e+05   \n",
      "75%    13940.500000  1.112190e+07   8400.000000  5.350000e+05   \n",
      "max    18595.000000  1.116037e+07   9991.000000  1.145000e+07   \n",
      "\n",
      "       ConstructionYear  BedroomCount    LivingArea     Furnished  \\\n",
      "count      18547.000000  18547.000000  18547.000000  18547.000000   \n",
      "mean        1517.778401      2.926781    168.033105      0.028953   \n",
      "std          840.534786      1.628605    165.412808      0.167680   \n",
      "min           -1.000000      0.000000     -1.000000      0.000000   \n",
      "25%         1874.000000      2.000000     90.000000      0.000000   \n",
      "50%         1966.000000      3.000000    133.000000      0.000000   \n",
      "75%         2005.000000      4.000000    200.000000      0.000000   \n",
      "max         9999.000000     35.000000  11000.000000      1.000000   \n",
      "\n",
      "          Fireplace       Terrace   TerraceArea        Garden     GardenArea  \\\n",
      "count  18547.000000  18547.000000  18547.000000  18547.000000   18547.000000   \n",
      "mean       0.179274      0.658004     12.542190      0.276271     705.440880   \n",
      "std        0.383592      0.474391     43.096502      0.447165    7710.984406   \n",
      "min        0.000000      0.000000      0.000000      0.000000       0.000000   \n",
      "25%        0.000000      0.000000      0.000000      0.000000       0.000000   \n",
      "50%        0.000000      1.000000      0.000000      0.000000       0.000000   \n",
      "75%        0.000000      1.000000     15.000000      1.000000     445.000000   \n",
      "max        1.000000      1.000000   3466.000000      1.000000  917440.000000   \n",
      "\n",
      "            Facades  SwimmingPool      Latitude     Longitude  \n",
      "count  18547.000000  18547.000000  18547.000000  18547.000000  \n",
      "mean       1.827196      0.029115     42.990996      3.095002  \n",
      "std        1.789728      0.168134     17.983834      1.833531  \n",
      "min       -1.000000      0.000000     -1.000000     -1.000000  \n",
      "25%        1.000000      0.000000     50.000000      3.000000  \n",
      "50%        2.000000      0.000000     50.000000      4.000000  \n",
      "75%        3.000000      0.000000     51.000000      4.000000  \n",
      "max        8.000000      1.000000     51.000000      6.000000  \n"
     ]
    }
   ],
   "source": [
    "# pandas get_dummies for one-hot encoding\n",
    "data_encoded = pd.get_dummies(data, columns=['City', 'Region', 'District', 'Province', 'PropertyType', 'PropertySubType', 'SaleType', 'KitchenType', 'Condition', 'EPCScore'])\n",
    "# Now, calculate the correlation of these one-hot encoded variables with Price\n",
    "print(data_encoded.describe())\n",
    "# correlations = data_encoded.corrwith(data_encoded['Price']).sort_values(ascending=False)\n",
    "# print(correlations)"
   ]
  },
  {
   "cell_type": "code",
   "execution_count": null,
   "metadata": {},
   "outputs": [],
   "source": [
    "\n",
    "print('Correlations to price:')\n",
    "for column in data.columns:\n",
    "    if column in ['ConstructionYear', 'BedroomCount', 'LivingArea', 'Furnished', 'Fireplace', 'Terrace', 'TerraceArea', 'Garden',\n",
    "       'GardenArea', 'Facades', 'SwimmingPool']:\n",
    "        print(column, round(data[column].corr(data['Price']), 2))\n",
    "\n",
    "\n"
   ]
  },
  {
   "cell_type": "markdown",
   "metadata": {},
   "source": [
    "How are the variables themselves correlated to each other? Can you find groups of variables that are correlated together?\n"
   ]
  },
  {
   "cell_type": "code",
   "execution_count": 30,
   "metadata": {},
   "outputs": [
    {
     "ename": "ValueError",
     "evalue": "Mime type rendering requires nbformat>=4.2.0 but it is not installed",
     "output_type": "error",
     "traceback": [
      "\u001b[1;31m---------------------------------------------------------------------------\u001b[0m",
      "\u001b[1;31mValueError\u001b[0m                                Traceback (most recent call last)",
      "File \u001b[1;32m~\\AppData\\Roaming\\Python\\Python311\\site-packages\\IPython\\core\\formatters.py:922\u001b[0m, in \u001b[0;36mIPythonDisplayFormatter.__call__\u001b[1;34m(self, obj)\u001b[0m\n\u001b[0;32m    920\u001b[0m method \u001b[38;5;241m=\u001b[39m get_real_method(obj, \u001b[38;5;28mself\u001b[39m\u001b[38;5;241m.\u001b[39mprint_method)\n\u001b[0;32m    921\u001b[0m \u001b[38;5;28;01mif\u001b[39;00m method \u001b[38;5;129;01mis\u001b[39;00m \u001b[38;5;129;01mnot\u001b[39;00m \u001b[38;5;28;01mNone\u001b[39;00m:\n\u001b[1;32m--> 922\u001b[0m     \u001b[43mmethod\u001b[49m\u001b[43m(\u001b[49m\u001b[43m)\u001b[49m\n\u001b[0;32m    923\u001b[0m     \u001b[38;5;28;01mreturn\u001b[39;00m \u001b[38;5;28;01mTrue\u001b[39;00m\n",
      "File \u001b[1;32mc:\\Users\\Viktor C\\AppData\\Local\\Programs\\Python\\Python311\\Lib\\site-packages\\plotly\\basedatatypes.py:832\u001b[0m, in \u001b[0;36mBaseFigure._ipython_display_\u001b[1;34m(self)\u001b[0m\n\u001b[0;32m    829\u001b[0m \u001b[38;5;28;01mimport\u001b[39;00m \u001b[38;5;21;01mplotly\u001b[39;00m\u001b[38;5;21;01m.\u001b[39;00m\u001b[38;5;21;01mio\u001b[39;00m \u001b[38;5;28;01mas\u001b[39;00m \u001b[38;5;21;01mpio\u001b[39;00m\n\u001b[0;32m    831\u001b[0m \u001b[38;5;28;01mif\u001b[39;00m pio\u001b[38;5;241m.\u001b[39mrenderers\u001b[38;5;241m.\u001b[39mrender_on_display \u001b[38;5;129;01mand\u001b[39;00m pio\u001b[38;5;241m.\u001b[39mrenderers\u001b[38;5;241m.\u001b[39mdefault:\n\u001b[1;32m--> 832\u001b[0m     \u001b[43mpio\u001b[49m\u001b[38;5;241;43m.\u001b[39;49m\u001b[43mshow\u001b[49m\u001b[43m(\u001b[49m\u001b[38;5;28;43mself\u001b[39;49m\u001b[43m)\u001b[49m\n\u001b[0;32m    833\u001b[0m \u001b[38;5;28;01melse\u001b[39;00m:\n\u001b[0;32m    834\u001b[0m     \u001b[38;5;28mprint\u001b[39m(\u001b[38;5;28mrepr\u001b[39m(\u001b[38;5;28mself\u001b[39m))\n",
      "File \u001b[1;32mc:\\Users\\Viktor C\\AppData\\Local\\Programs\\Python\\Python311\\Lib\\site-packages\\plotly\\io\\_renderers.py:394\u001b[0m, in \u001b[0;36mshow\u001b[1;34m(fig, renderer, validate, **kwargs)\u001b[0m\n\u001b[0;32m    389\u001b[0m         \u001b[38;5;28;01mraise\u001b[39;00m \u001b[38;5;167;01mValueError\u001b[39;00m(\n\u001b[0;32m    390\u001b[0m             \u001b[38;5;124m\"\u001b[39m\u001b[38;5;124mMime type rendering requires ipython but it is not installed\u001b[39m\u001b[38;5;124m\"\u001b[39m\n\u001b[0;32m    391\u001b[0m         )\n\u001b[0;32m    393\u001b[0m     \u001b[38;5;28;01mif\u001b[39;00m \u001b[38;5;129;01mnot\u001b[39;00m nbformat \u001b[38;5;129;01mor\u001b[39;00m Version(nbformat\u001b[38;5;241m.\u001b[39m__version__) \u001b[38;5;241m<\u001b[39m Version(\u001b[38;5;124m\"\u001b[39m\u001b[38;5;124m4.2.0\u001b[39m\u001b[38;5;124m\"\u001b[39m):\n\u001b[1;32m--> 394\u001b[0m         \u001b[38;5;28;01mraise\u001b[39;00m \u001b[38;5;167;01mValueError\u001b[39;00m(\n\u001b[0;32m    395\u001b[0m             \u001b[38;5;124m\"\u001b[39m\u001b[38;5;124mMime type rendering requires nbformat>=4.2.0 but it is not installed\u001b[39m\u001b[38;5;124m\"\u001b[39m\n\u001b[0;32m    396\u001b[0m         )\n\u001b[0;32m    398\u001b[0m     ipython_display\u001b[38;5;241m.\u001b[39mdisplay(bundle, raw\u001b[38;5;241m=\u001b[39m\u001b[38;5;28;01mTrue\u001b[39;00m)\n\u001b[0;32m    400\u001b[0m \u001b[38;5;66;03m# external renderers\u001b[39;00m\n",
      "\u001b[1;31mValueError\u001b[0m: Mime type rendering requires nbformat>=4.2.0 but it is not installed"
     ]
    },
    {
     "data": {
      "application/vnd.plotly.v1+json": {
       "config": {
        "plotlyServerURL": "https://plot.ly"
       },
       "data": [
        {
         "coloraxis": "coloraxis",
         "hovertemplate": "x: %{x}<br>y: %{y}<br>color: %{z}<extra></extra>",
         "name": "0",
         "type": "heatmap",
         "x": [
          "Price",
          "ConstructionYear",
          "BedroomCount",
          "LivingArea",
          "Furnished",
          "Fireplace",
          "Terrace",
          "TerraceArea",
          "Garden",
          "GardenArea",
          "Facades",
          "SwimmingPool",
          "PopulationDensity"
         ],
         "xaxis": "x",
         "y": [
          "Price",
          "ConstructionYear",
          "BedroomCount",
          "LivingArea",
          "Furnished",
          "Fireplace",
          "Terrace",
          "TerraceArea",
          "Garden",
          "GardenArea",
          "Facades",
          "SwimmingPool",
          "PopulationDensity"
         ],
         "yaxis": "y",
         "z": [
          [
           1,
           0.008306567678656557,
           0.34922906693209915,
           0.21588807193329568,
           0.021935981748565564,
           0.001482054653709295,
           0.0395172629761511,
           0.07713320073034705,
           0.025475702392457448,
           0.15200536821750782,
           0.17544131741348443,
           0.2181927425961616,
           0.04398657430706432
          ],
          [
           0.008306567678656557,
           1,
           -0.1373008752637541,
           -0.16697994307912267,
           0.0007572097434401896,
           -0.05707010090483441,
           0.10845622801757786,
           0.02255044722623423,
           -0.11352503322279305,
           -0.07512967391799596,
           0.08742023147263007,
           0.0031485912623909896,
           -0.1432521101023402
          ],
          [
           0.34922906693209915,
           -0.1373008752637541,
           1,
           0.23703238753750322,
           -0.018448115741919666,
           0.048270605281422595,
           0.01242276986840539,
           0.03537767341140673,
           0.11647787105117399,
           0.08754124963170593,
           0.1487630429651582,
           0.08576525390442977,
           -0.04512876448320662
          ],
          [
           0.21588807193329568,
           -0.16697994307912267,
           0.23703238753750322,
           1,
           -0.007850855406861148,
           0.017350217308171323,
           -0.0075982139129639106,
           0.027068198335702103,
           0.034633875690007004,
           0.05846784773151883,
           0.08360561463478698,
           0.06911627885666491,
           -0.015758358733376963
          ],
          [
           0.021935981748565564,
           0.0007572097434401896,
           -0.018448115741919666,
           -0.007850855406861148,
           1,
           -0.015898924505458767,
           0.019242136754670857,
           0.00892907665792919,
           -0.01609111772718292,
           -0.00301055719218829,
           -0.05041351026262054,
           0.019577863939858286,
           0.027091608602492857
          ],
          [
           0.001482054653709295,
           -0.05707010090483441,
           0.048270605281422595,
           0.017350217308171323,
           -0.015898924505458767,
           1,
           0.046454030816996845,
           0.019623702132037547,
           0.18170409295634643,
           0.02326938163099309,
           0.05496798249969764,
           0.029838952849665427,
           -0.013928106327975398
          ],
          [
           0.0395172629761511,
           0.10845622801757786,
           0.01242276986840539,
           -0.0075982139129639106,
           0.019242136754670857,
           0.046454030816996845,
           1,
           0.19661545577637277,
           0.15685399190942484,
           -0.00943319528031015,
           -0.01345886547016682,
           0.06616153002580569,
           0.05907642017186231
          ],
          [
           0.07713320073034705,
           0.02255044722623423,
           0.03537767341140673,
           0.027068198335702103,
           0.00892907665792919,
           0.019623702132037547,
           0.19661545577637277,
           1,
           0.10653111981080449,
           0.015347408576270411,
           0.0397384781973228,
           0.06189132122940544,
           0.019201920285689948
          ],
          [
           0.025475702392457448,
           -0.11352503322279305,
           0.11647787105117399,
           0.034633875690007004,
           -0.01609111772718292,
           0.18170409295634643,
           0.15685399190942484,
           0.10653111981080449,
           1,
           0.019985068625416973,
           0.08107657036819509,
           0.0711777452432291,
           -0.04144276625077095
          ],
          [
           0.15200536821750782,
           -0.07512967391799596,
           0.08754124963170593,
           0.05846784773151883,
           -0.00301055719218829,
           0.02326938163099309,
           -0.00943319528031015,
           0.015347408576270411,
           0.019985068625416973,
           1,
           0.09866883020355094,
           0.05963984912582059,
           -0.03640415045702538
          ],
          [
           0.17544131741348443,
           0.08742023147263007,
           0.1487630429651582,
           0.08360561463478698,
           -0.05041351026262054,
           0.05496798249969764,
           -0.01345886547016682,
           0.0397384781973228,
           0.08107657036819509,
           0.09866883020355094,
           1,
           0.16479431793127236,
           -0.2537575758757653
          ],
          [
           0.2181927425961616,
           0.0031485912623909896,
           0.08576525390442977,
           0.06911627885666491,
           0.019577863939858286,
           0.029838952849665427,
           0.06616153002580569,
           0.06189132122940544,
           0.0711777452432291,
           0.05963984912582059,
           0.16479431793127236,
           1,
           -0.032596733752994496
          ],
          [
           0.04398657430706432,
           -0.1432521101023402,
           -0.04512876448320662,
           -0.015758358733376963,
           0.027091608602492857,
           -0.013928106327975398,
           0.05907642017186231,
           0.019201920285689948,
           -0.04144276625077095,
           -0.03640415045702538,
           -0.2537575758757653,
           -0.032596733752994496,
           1
          ]
         ]
        }
       ],
       "layout": {
        "coloraxis": {
         "cmax": 1,
         "cmin": -1,
         "colorscale": [
          [
           0,
           "rgb(103,0,31)"
          ],
          [
           0.1,
           "rgb(178,24,43)"
          ],
          [
           0.2,
           "rgb(214,96,77)"
          ],
          [
           0.3,
           "rgb(244,165,130)"
          ],
          [
           0.4,
           "rgb(253,219,199)"
          ],
          [
           0.5,
           "rgb(247,247,247)"
          ],
          [
           0.6,
           "rgb(209,229,240)"
          ],
          [
           0.7,
           "rgb(146,197,222)"
          ],
          [
           0.8,
           "rgb(67,147,195)"
          ],
          [
           0.9,
           "rgb(33,102,172)"
          ],
          [
           1,
           "rgb(5,48,97)"
          ]
         ]
        },
        "margin": {
         "t": 60
        },
        "template": {
         "data": {
          "bar": [
           {
            "error_x": {
             "color": "#2a3f5f"
            },
            "error_y": {
             "color": "#2a3f5f"
            },
            "marker": {
             "line": {
              "color": "#E5ECF6",
              "width": 0.5
             },
             "pattern": {
              "fillmode": "overlay",
              "size": 10,
              "solidity": 0.2
             }
            },
            "type": "bar"
           }
          ],
          "barpolar": [
           {
            "marker": {
             "line": {
              "color": "#E5ECF6",
              "width": 0.5
             },
             "pattern": {
              "fillmode": "overlay",
              "size": 10,
              "solidity": 0.2
             }
            },
            "type": "barpolar"
           }
          ],
          "carpet": [
           {
            "aaxis": {
             "endlinecolor": "#2a3f5f",
             "gridcolor": "white",
             "linecolor": "white",
             "minorgridcolor": "white",
             "startlinecolor": "#2a3f5f"
            },
            "baxis": {
             "endlinecolor": "#2a3f5f",
             "gridcolor": "white",
             "linecolor": "white",
             "minorgridcolor": "white",
             "startlinecolor": "#2a3f5f"
            },
            "type": "carpet"
           }
          ],
          "choropleth": [
           {
            "colorbar": {
             "outlinewidth": 0,
             "ticks": ""
            },
            "type": "choropleth"
           }
          ],
          "contour": [
           {
            "colorbar": {
             "outlinewidth": 0,
             "ticks": ""
            },
            "colorscale": [
             [
              0,
              "#0d0887"
             ],
             [
              0.1111111111111111,
              "#46039f"
             ],
             [
              0.2222222222222222,
              "#7201a8"
             ],
             [
              0.3333333333333333,
              "#9c179e"
             ],
             [
              0.4444444444444444,
              "#bd3786"
             ],
             [
              0.5555555555555556,
              "#d8576b"
             ],
             [
              0.6666666666666666,
              "#ed7953"
             ],
             [
              0.7777777777777778,
              "#fb9f3a"
             ],
             [
              0.8888888888888888,
              "#fdca26"
             ],
             [
              1,
              "#f0f921"
             ]
            ],
            "type": "contour"
           }
          ],
          "contourcarpet": [
           {
            "colorbar": {
             "outlinewidth": 0,
             "ticks": ""
            },
            "type": "contourcarpet"
           }
          ],
          "heatmap": [
           {
            "colorbar": {
             "outlinewidth": 0,
             "ticks": ""
            },
            "colorscale": [
             [
              0,
              "#0d0887"
             ],
             [
              0.1111111111111111,
              "#46039f"
             ],
             [
              0.2222222222222222,
              "#7201a8"
             ],
             [
              0.3333333333333333,
              "#9c179e"
             ],
             [
              0.4444444444444444,
              "#bd3786"
             ],
             [
              0.5555555555555556,
              "#d8576b"
             ],
             [
              0.6666666666666666,
              "#ed7953"
             ],
             [
              0.7777777777777778,
              "#fb9f3a"
             ],
             [
              0.8888888888888888,
              "#fdca26"
             ],
             [
              1,
              "#f0f921"
             ]
            ],
            "type": "heatmap"
           }
          ],
          "heatmapgl": [
           {
            "colorbar": {
             "outlinewidth": 0,
             "ticks": ""
            },
            "colorscale": [
             [
              0,
              "#0d0887"
             ],
             [
              0.1111111111111111,
              "#46039f"
             ],
             [
              0.2222222222222222,
              "#7201a8"
             ],
             [
              0.3333333333333333,
              "#9c179e"
             ],
             [
              0.4444444444444444,
              "#bd3786"
             ],
             [
              0.5555555555555556,
              "#d8576b"
             ],
             [
              0.6666666666666666,
              "#ed7953"
             ],
             [
              0.7777777777777778,
              "#fb9f3a"
             ],
             [
              0.8888888888888888,
              "#fdca26"
             ],
             [
              1,
              "#f0f921"
             ]
            ],
            "type": "heatmapgl"
           }
          ],
          "histogram": [
           {
            "marker": {
             "pattern": {
              "fillmode": "overlay",
              "size": 10,
              "solidity": 0.2
             }
            },
            "type": "histogram"
           }
          ],
          "histogram2d": [
           {
            "colorbar": {
             "outlinewidth": 0,
             "ticks": ""
            },
            "colorscale": [
             [
              0,
              "#0d0887"
             ],
             [
              0.1111111111111111,
              "#46039f"
             ],
             [
              0.2222222222222222,
              "#7201a8"
             ],
             [
              0.3333333333333333,
              "#9c179e"
             ],
             [
              0.4444444444444444,
              "#bd3786"
             ],
             [
              0.5555555555555556,
              "#d8576b"
             ],
             [
              0.6666666666666666,
              "#ed7953"
             ],
             [
              0.7777777777777778,
              "#fb9f3a"
             ],
             [
              0.8888888888888888,
              "#fdca26"
             ],
             [
              1,
              "#f0f921"
             ]
            ],
            "type": "histogram2d"
           }
          ],
          "histogram2dcontour": [
           {
            "colorbar": {
             "outlinewidth": 0,
             "ticks": ""
            },
            "colorscale": [
             [
              0,
              "#0d0887"
             ],
             [
              0.1111111111111111,
              "#46039f"
             ],
             [
              0.2222222222222222,
              "#7201a8"
             ],
             [
              0.3333333333333333,
              "#9c179e"
             ],
             [
              0.4444444444444444,
              "#bd3786"
             ],
             [
              0.5555555555555556,
              "#d8576b"
             ],
             [
              0.6666666666666666,
              "#ed7953"
             ],
             [
              0.7777777777777778,
              "#fb9f3a"
             ],
             [
              0.8888888888888888,
              "#fdca26"
             ],
             [
              1,
              "#f0f921"
             ]
            ],
            "type": "histogram2dcontour"
           }
          ],
          "mesh3d": [
           {
            "colorbar": {
             "outlinewidth": 0,
             "ticks": ""
            },
            "type": "mesh3d"
           }
          ],
          "parcoords": [
           {
            "line": {
             "colorbar": {
              "outlinewidth": 0,
              "ticks": ""
             }
            },
            "type": "parcoords"
           }
          ],
          "pie": [
           {
            "automargin": true,
            "type": "pie"
           }
          ],
          "scatter": [
           {
            "fillpattern": {
             "fillmode": "overlay",
             "size": 10,
             "solidity": 0.2
            },
            "type": "scatter"
           }
          ],
          "scatter3d": [
           {
            "line": {
             "colorbar": {
              "outlinewidth": 0,
              "ticks": ""
             }
            },
            "marker": {
             "colorbar": {
              "outlinewidth": 0,
              "ticks": ""
             }
            },
            "type": "scatter3d"
           }
          ],
          "scattercarpet": [
           {
            "marker": {
             "colorbar": {
              "outlinewidth": 0,
              "ticks": ""
             }
            },
            "type": "scattercarpet"
           }
          ],
          "scattergeo": [
           {
            "marker": {
             "colorbar": {
              "outlinewidth": 0,
              "ticks": ""
             }
            },
            "type": "scattergeo"
           }
          ],
          "scattergl": [
           {
            "marker": {
             "colorbar": {
              "outlinewidth": 0,
              "ticks": ""
             }
            },
            "type": "scattergl"
           }
          ],
          "scattermapbox": [
           {
            "marker": {
             "colorbar": {
              "outlinewidth": 0,
              "ticks": ""
             }
            },
            "type": "scattermapbox"
           }
          ],
          "scatterpolar": [
           {
            "marker": {
             "colorbar": {
              "outlinewidth": 0,
              "ticks": ""
             }
            },
            "type": "scatterpolar"
           }
          ],
          "scatterpolargl": [
           {
            "marker": {
             "colorbar": {
              "outlinewidth": 0,
              "ticks": ""
             }
            },
            "type": "scatterpolargl"
           }
          ],
          "scatterternary": [
           {
            "marker": {
             "colorbar": {
              "outlinewidth": 0,
              "ticks": ""
             }
            },
            "type": "scatterternary"
           }
          ],
          "surface": [
           {
            "colorbar": {
             "outlinewidth": 0,
             "ticks": ""
            },
            "colorscale": [
             [
              0,
              "#0d0887"
             ],
             [
              0.1111111111111111,
              "#46039f"
             ],
             [
              0.2222222222222222,
              "#7201a8"
             ],
             [
              0.3333333333333333,
              "#9c179e"
             ],
             [
              0.4444444444444444,
              "#bd3786"
             ],
             [
              0.5555555555555556,
              "#d8576b"
             ],
             [
              0.6666666666666666,
              "#ed7953"
             ],
             [
              0.7777777777777778,
              "#fb9f3a"
             ],
             [
              0.8888888888888888,
              "#fdca26"
             ],
             [
              1,
              "#f0f921"
             ]
            ],
            "type": "surface"
           }
          ],
          "table": [
           {
            "cells": {
             "fill": {
              "color": "#EBF0F8"
             },
             "line": {
              "color": "white"
             }
            },
            "header": {
             "fill": {
              "color": "#C8D4E3"
             },
             "line": {
              "color": "white"
             }
            },
            "type": "table"
           }
          ]
         },
         "layout": {
          "annotationdefaults": {
           "arrowcolor": "#2a3f5f",
           "arrowhead": 0,
           "arrowwidth": 1
          },
          "autotypenumbers": "strict",
          "coloraxis": {
           "colorbar": {
            "outlinewidth": 0,
            "ticks": ""
           }
          },
          "colorscale": {
           "diverging": [
            [
             0,
             "#8e0152"
            ],
            [
             0.1,
             "#c51b7d"
            ],
            [
             0.2,
             "#de77ae"
            ],
            [
             0.3,
             "#f1b6da"
            ],
            [
             0.4,
             "#fde0ef"
            ],
            [
             0.5,
             "#f7f7f7"
            ],
            [
             0.6,
             "#e6f5d0"
            ],
            [
             0.7,
             "#b8e186"
            ],
            [
             0.8,
             "#7fbc41"
            ],
            [
             0.9,
             "#4d9221"
            ],
            [
             1,
             "#276419"
            ]
           ],
           "sequential": [
            [
             0,
             "#0d0887"
            ],
            [
             0.1111111111111111,
             "#46039f"
            ],
            [
             0.2222222222222222,
             "#7201a8"
            ],
            [
             0.3333333333333333,
             "#9c179e"
            ],
            [
             0.4444444444444444,
             "#bd3786"
            ],
            [
             0.5555555555555556,
             "#d8576b"
            ],
            [
             0.6666666666666666,
             "#ed7953"
            ],
            [
             0.7777777777777778,
             "#fb9f3a"
            ],
            [
             0.8888888888888888,
             "#fdca26"
            ],
            [
             1,
             "#f0f921"
            ]
           ],
           "sequentialminus": [
            [
             0,
             "#0d0887"
            ],
            [
             0.1111111111111111,
             "#46039f"
            ],
            [
             0.2222222222222222,
             "#7201a8"
            ],
            [
             0.3333333333333333,
             "#9c179e"
            ],
            [
             0.4444444444444444,
             "#bd3786"
            ],
            [
             0.5555555555555556,
             "#d8576b"
            ],
            [
             0.6666666666666666,
             "#ed7953"
            ],
            [
             0.7777777777777778,
             "#fb9f3a"
            ],
            [
             0.8888888888888888,
             "#fdca26"
            ],
            [
             1,
             "#f0f921"
            ]
           ]
          },
          "colorway": [
           "#636efa",
           "#EF553B",
           "#00cc96",
           "#ab63fa",
           "#FFA15A",
           "#19d3f3",
           "#FF6692",
           "#B6E880",
           "#FF97FF",
           "#FECB52"
          ],
          "font": {
           "color": "#2a3f5f"
          },
          "geo": {
           "bgcolor": "white",
           "lakecolor": "white",
           "landcolor": "#E5ECF6",
           "showlakes": true,
           "showland": true,
           "subunitcolor": "white"
          },
          "hoverlabel": {
           "align": "left"
          },
          "hovermode": "closest",
          "mapbox": {
           "style": "light"
          },
          "paper_bgcolor": "white",
          "plot_bgcolor": "#E5ECF6",
          "polar": {
           "angularaxis": {
            "gridcolor": "white",
            "linecolor": "white",
            "ticks": ""
           },
           "bgcolor": "#E5ECF6",
           "radialaxis": {
            "gridcolor": "white",
            "linecolor": "white",
            "ticks": ""
           }
          },
          "scene": {
           "xaxis": {
            "backgroundcolor": "#E5ECF6",
            "gridcolor": "white",
            "gridwidth": 2,
            "linecolor": "white",
            "showbackground": true,
            "ticks": "",
            "zerolinecolor": "white"
           },
           "yaxis": {
            "backgroundcolor": "#E5ECF6",
            "gridcolor": "white",
            "gridwidth": 2,
            "linecolor": "white",
            "showbackground": true,
            "ticks": "",
            "zerolinecolor": "white"
           },
           "zaxis": {
            "backgroundcolor": "#E5ECF6",
            "gridcolor": "white",
            "gridwidth": 2,
            "linecolor": "white",
            "showbackground": true,
            "ticks": "",
            "zerolinecolor": "white"
           }
          },
          "shapedefaults": {
           "line": {
            "color": "#2a3f5f"
           }
          },
          "ternary": {
           "aaxis": {
            "gridcolor": "white",
            "linecolor": "white",
            "ticks": ""
           },
           "baxis": {
            "gridcolor": "white",
            "linecolor": "white",
            "ticks": ""
           },
           "bgcolor": "#E5ECF6",
           "caxis": {
            "gridcolor": "white",
            "linecolor": "white",
            "ticks": ""
           }
          },
          "title": {
           "x": 0.05
          },
          "xaxis": {
           "automargin": true,
           "gridcolor": "white",
           "linecolor": "white",
           "ticks": "",
           "title": {
            "standoff": 15
           },
           "zerolinecolor": "white",
           "zerolinewidth": 2
          },
          "yaxis": {
           "automargin": true,
           "gridcolor": "white",
           "linecolor": "white",
           "ticks": "",
           "title": {
            "standoff": 15
           },
           "zerolinecolor": "white",
           "zerolinewidth": 2
          }
         }
        },
        "xaxis": {
         "anchor": "y",
         "constrain": "domain",
         "domain": [
          0,
          1
         ],
         "scaleanchor": "y"
        },
        "yaxis": {
         "anchor": "x",
         "autorange": "reversed",
         "constrain": "domain",
         "domain": [
          0,
          1
         ]
        }
       }
      },
      "text/html": [
       "<div>                        <script type=\"text/javascript\">window.PlotlyConfig = {MathJaxConfig: 'local'};</script>\n",
       "        <script charset=\"utf-8\" src=\"https://cdn.plot.ly/plotly-2.29.1.min.js\"></script>                <div id=\"7303aaf4-78ae-48c0-9fce-640a7a38bc6a\" class=\"plotly-graph-div\" style=\"height:100%; width:100%;\"></div>            <script type=\"text/javascript\">                                    window.PLOTLYENV=window.PLOTLYENV || {};                                    if (document.getElementById(\"7303aaf4-78ae-48c0-9fce-640a7a38bc6a\")) {                    Plotly.newPlot(                        \"7303aaf4-78ae-48c0-9fce-640a7a38bc6a\",                        [{\"coloraxis\":\"coloraxis\",\"name\":\"0\",\"x\":[\"Price\",\"ConstructionYear\",\"BedroomCount\",\"LivingArea\",\"Furnished\",\"Fireplace\",\"Terrace\",\"TerraceArea\",\"Garden\",\"GardenArea\",\"Facades\",\"SwimmingPool\",\"PopulationDensity\"],\"y\":[\"Price\",\"ConstructionYear\",\"BedroomCount\",\"LivingArea\",\"Furnished\",\"Fireplace\",\"Terrace\",\"TerraceArea\",\"Garden\",\"GardenArea\",\"Facades\",\"SwimmingPool\",\"PopulationDensity\"],\"z\":[[1.0,0.008306567678656557,0.34922906693209915,0.21588807193329568,0.021935981748565564,0.001482054653709295,0.0395172629761511,0.07713320073034705,0.025475702392457448,0.15200536821750782,0.17544131741348443,0.2181927425961616,0.04398657430706432],[0.008306567678656557,1.0,-0.1373008752637541,-0.16697994307912267,0.0007572097434401896,-0.05707010090483441,0.10845622801757786,0.02255044722623423,-0.11352503322279305,-0.07512967391799596,0.08742023147263007,0.0031485912623909896,-0.1432521101023402],[0.34922906693209915,-0.1373008752637541,1.0,0.23703238753750322,-0.018448115741919666,0.048270605281422595,0.01242276986840539,0.03537767341140673,0.11647787105117399,0.08754124963170593,0.1487630429651582,0.08576525390442977,-0.04512876448320662],[0.21588807193329568,-0.16697994307912267,0.23703238753750322,1.0,-0.007850855406861148,0.017350217308171323,-0.0075982139129639106,0.027068198335702103,0.034633875690007004,0.05846784773151883,0.08360561463478698,0.06911627885666491,-0.015758358733376963],[0.021935981748565564,0.0007572097434401896,-0.018448115741919666,-0.007850855406861148,1.0,-0.015898924505458767,0.019242136754670857,0.00892907665792919,-0.01609111772718292,-0.00301055719218829,-0.05041351026262054,0.019577863939858286,0.027091608602492857],[0.001482054653709295,-0.05707010090483441,0.048270605281422595,0.017350217308171323,-0.015898924505458767,1.0,0.046454030816996845,0.019623702132037547,0.18170409295634643,0.02326938163099309,0.05496798249969764,0.029838952849665427,-0.013928106327975398],[0.0395172629761511,0.10845622801757786,0.01242276986840539,-0.0075982139129639106,0.019242136754670857,0.046454030816996845,1.0,0.19661545577637277,0.15685399190942484,-0.00943319528031015,-0.01345886547016682,0.06616153002580569,0.05907642017186231],[0.07713320073034705,0.02255044722623423,0.03537767341140673,0.027068198335702103,0.00892907665792919,0.019623702132037547,0.19661545577637277,1.0,0.10653111981080449,0.015347408576270411,0.0397384781973228,0.06189132122940544,0.019201920285689948],[0.025475702392457448,-0.11352503322279305,0.11647787105117399,0.034633875690007004,-0.01609111772718292,0.18170409295634643,0.15685399190942484,0.10653111981080449,1.0,0.019985068625416973,0.08107657036819509,0.0711777452432291,-0.04144276625077095],[0.15200536821750782,-0.07512967391799596,0.08754124963170593,0.05846784773151883,-0.00301055719218829,0.02326938163099309,-0.00943319528031015,0.015347408576270411,0.019985068625416973,1.0,0.09866883020355094,0.05963984912582059,-0.03640415045702538],[0.17544131741348443,0.08742023147263007,0.1487630429651582,0.08360561463478698,-0.05041351026262054,0.05496798249969764,-0.01345886547016682,0.0397384781973228,0.08107657036819509,0.09866883020355094,1.0,0.16479431793127236,-0.2537575758757653],[0.2181927425961616,0.0031485912623909896,0.08576525390442977,0.06911627885666491,0.019577863939858286,0.029838952849665427,0.06616153002580569,0.06189132122940544,0.0711777452432291,0.05963984912582059,0.16479431793127236,1.0,-0.032596733752994496],[0.04398657430706432,-0.1432521101023402,-0.04512876448320662,-0.015758358733376963,0.027091608602492857,-0.013928106327975398,0.05907642017186231,0.019201920285689948,-0.04144276625077095,-0.03640415045702538,-0.2537575758757653,-0.032596733752994496,1.0]],\"type\":\"heatmap\",\"xaxis\":\"x\",\"yaxis\":\"y\",\"hovertemplate\":\"x: %{x}\\u003cbr\\u003ey: %{y}\\u003cbr\\u003ecolor: %{z}\\u003cextra\\u003e\\u003c\\u002fextra\\u003e\"}],                        {\"template\":{\"data\":{\"histogram2dcontour\":[{\"type\":\"histogram2dcontour\",\"colorbar\":{\"outlinewidth\":0,\"ticks\":\"\"},\"colorscale\":[[0.0,\"#0d0887\"],[0.1111111111111111,\"#46039f\"],[0.2222222222222222,\"#7201a8\"],[0.3333333333333333,\"#9c179e\"],[0.4444444444444444,\"#bd3786\"],[0.5555555555555556,\"#d8576b\"],[0.6666666666666666,\"#ed7953\"],[0.7777777777777778,\"#fb9f3a\"],[0.8888888888888888,\"#fdca26\"],[1.0,\"#f0f921\"]]}],\"choropleth\":[{\"type\":\"choropleth\",\"colorbar\":{\"outlinewidth\":0,\"ticks\":\"\"}}],\"histogram2d\":[{\"type\":\"histogram2d\",\"colorbar\":{\"outlinewidth\":0,\"ticks\":\"\"},\"colorscale\":[[0.0,\"#0d0887\"],[0.1111111111111111,\"#46039f\"],[0.2222222222222222,\"#7201a8\"],[0.3333333333333333,\"#9c179e\"],[0.4444444444444444,\"#bd3786\"],[0.5555555555555556,\"#d8576b\"],[0.6666666666666666,\"#ed7953\"],[0.7777777777777778,\"#fb9f3a\"],[0.8888888888888888,\"#fdca26\"],[1.0,\"#f0f921\"]]}],\"heatmap\":[{\"type\":\"heatmap\",\"colorbar\":{\"outlinewidth\":0,\"ticks\":\"\"},\"colorscale\":[[0.0,\"#0d0887\"],[0.1111111111111111,\"#46039f\"],[0.2222222222222222,\"#7201a8\"],[0.3333333333333333,\"#9c179e\"],[0.4444444444444444,\"#bd3786\"],[0.5555555555555556,\"#d8576b\"],[0.6666666666666666,\"#ed7953\"],[0.7777777777777778,\"#fb9f3a\"],[0.8888888888888888,\"#fdca26\"],[1.0,\"#f0f921\"]]}],\"heatmapgl\":[{\"type\":\"heatmapgl\",\"colorbar\":{\"outlinewidth\":0,\"ticks\":\"\"},\"colorscale\":[[0.0,\"#0d0887\"],[0.1111111111111111,\"#46039f\"],[0.2222222222222222,\"#7201a8\"],[0.3333333333333333,\"#9c179e\"],[0.4444444444444444,\"#bd3786\"],[0.5555555555555556,\"#d8576b\"],[0.6666666666666666,\"#ed7953\"],[0.7777777777777778,\"#fb9f3a\"],[0.8888888888888888,\"#fdca26\"],[1.0,\"#f0f921\"]]}],\"contourcarpet\":[{\"type\":\"contourcarpet\",\"colorbar\":{\"outlinewidth\":0,\"ticks\":\"\"}}],\"contour\":[{\"type\":\"contour\",\"colorbar\":{\"outlinewidth\":0,\"ticks\":\"\"},\"colorscale\":[[0.0,\"#0d0887\"],[0.1111111111111111,\"#46039f\"],[0.2222222222222222,\"#7201a8\"],[0.3333333333333333,\"#9c179e\"],[0.4444444444444444,\"#bd3786\"],[0.5555555555555556,\"#d8576b\"],[0.6666666666666666,\"#ed7953\"],[0.7777777777777778,\"#fb9f3a\"],[0.8888888888888888,\"#fdca26\"],[1.0,\"#f0f921\"]]}],\"surface\":[{\"type\":\"surface\",\"colorbar\":{\"outlinewidth\":0,\"ticks\":\"\"},\"colorscale\":[[0.0,\"#0d0887\"],[0.1111111111111111,\"#46039f\"],[0.2222222222222222,\"#7201a8\"],[0.3333333333333333,\"#9c179e\"],[0.4444444444444444,\"#bd3786\"],[0.5555555555555556,\"#d8576b\"],[0.6666666666666666,\"#ed7953\"],[0.7777777777777778,\"#fb9f3a\"],[0.8888888888888888,\"#fdca26\"],[1.0,\"#f0f921\"]]}],\"mesh3d\":[{\"type\":\"mesh3d\",\"colorbar\":{\"outlinewidth\":0,\"ticks\":\"\"}}],\"scatter\":[{\"fillpattern\":{\"fillmode\":\"overlay\",\"size\":10,\"solidity\":0.2},\"type\":\"scatter\"}],\"parcoords\":[{\"type\":\"parcoords\",\"line\":{\"colorbar\":{\"outlinewidth\":0,\"ticks\":\"\"}}}],\"scatterpolargl\":[{\"type\":\"scatterpolargl\",\"marker\":{\"colorbar\":{\"outlinewidth\":0,\"ticks\":\"\"}}}],\"bar\":[{\"error_x\":{\"color\":\"#2a3f5f\"},\"error_y\":{\"color\":\"#2a3f5f\"},\"marker\":{\"line\":{\"color\":\"#E5ECF6\",\"width\":0.5},\"pattern\":{\"fillmode\":\"overlay\",\"size\":10,\"solidity\":0.2}},\"type\":\"bar\"}],\"scattergeo\":[{\"type\":\"scattergeo\",\"marker\":{\"colorbar\":{\"outlinewidth\":0,\"ticks\":\"\"}}}],\"scatterpolar\":[{\"type\":\"scatterpolar\",\"marker\":{\"colorbar\":{\"outlinewidth\":0,\"ticks\":\"\"}}}],\"histogram\":[{\"marker\":{\"pattern\":{\"fillmode\":\"overlay\",\"size\":10,\"solidity\":0.2}},\"type\":\"histogram\"}],\"scattergl\":[{\"type\":\"scattergl\",\"marker\":{\"colorbar\":{\"outlinewidth\":0,\"ticks\":\"\"}}}],\"scatter3d\":[{\"type\":\"scatter3d\",\"line\":{\"colorbar\":{\"outlinewidth\":0,\"ticks\":\"\"}},\"marker\":{\"colorbar\":{\"outlinewidth\":0,\"ticks\":\"\"}}}],\"scattermapbox\":[{\"type\":\"scattermapbox\",\"marker\":{\"colorbar\":{\"outlinewidth\":0,\"ticks\":\"\"}}}],\"scatterternary\":[{\"type\":\"scatterternary\",\"marker\":{\"colorbar\":{\"outlinewidth\":0,\"ticks\":\"\"}}}],\"scattercarpet\":[{\"type\":\"scattercarpet\",\"marker\":{\"colorbar\":{\"outlinewidth\":0,\"ticks\":\"\"}}}],\"carpet\":[{\"aaxis\":{\"endlinecolor\":\"#2a3f5f\",\"gridcolor\":\"white\",\"linecolor\":\"white\",\"minorgridcolor\":\"white\",\"startlinecolor\":\"#2a3f5f\"},\"baxis\":{\"endlinecolor\":\"#2a3f5f\",\"gridcolor\":\"white\",\"linecolor\":\"white\",\"minorgridcolor\":\"white\",\"startlinecolor\":\"#2a3f5f\"},\"type\":\"carpet\"}],\"table\":[{\"cells\":{\"fill\":{\"color\":\"#EBF0F8\"},\"line\":{\"color\":\"white\"}},\"header\":{\"fill\":{\"color\":\"#C8D4E3\"},\"line\":{\"color\":\"white\"}},\"type\":\"table\"}],\"barpolar\":[{\"marker\":{\"line\":{\"color\":\"#E5ECF6\",\"width\":0.5},\"pattern\":{\"fillmode\":\"overlay\",\"size\":10,\"solidity\":0.2}},\"type\":\"barpolar\"}],\"pie\":[{\"automargin\":true,\"type\":\"pie\"}]},\"layout\":{\"autotypenumbers\":\"strict\",\"colorway\":[\"#636efa\",\"#EF553B\",\"#00cc96\",\"#ab63fa\",\"#FFA15A\",\"#19d3f3\",\"#FF6692\",\"#B6E880\",\"#FF97FF\",\"#FECB52\"],\"font\":{\"color\":\"#2a3f5f\"},\"hovermode\":\"closest\",\"hoverlabel\":{\"align\":\"left\"},\"paper_bgcolor\":\"white\",\"plot_bgcolor\":\"#E5ECF6\",\"polar\":{\"bgcolor\":\"#E5ECF6\",\"angularaxis\":{\"gridcolor\":\"white\",\"linecolor\":\"white\",\"ticks\":\"\"},\"radialaxis\":{\"gridcolor\":\"white\",\"linecolor\":\"white\",\"ticks\":\"\"}},\"ternary\":{\"bgcolor\":\"#E5ECF6\",\"aaxis\":{\"gridcolor\":\"white\",\"linecolor\":\"white\",\"ticks\":\"\"},\"baxis\":{\"gridcolor\":\"white\",\"linecolor\":\"white\",\"ticks\":\"\"},\"caxis\":{\"gridcolor\":\"white\",\"linecolor\":\"white\",\"ticks\":\"\"}},\"coloraxis\":{\"colorbar\":{\"outlinewidth\":0,\"ticks\":\"\"}},\"colorscale\":{\"sequential\":[[0.0,\"#0d0887\"],[0.1111111111111111,\"#46039f\"],[0.2222222222222222,\"#7201a8\"],[0.3333333333333333,\"#9c179e\"],[0.4444444444444444,\"#bd3786\"],[0.5555555555555556,\"#d8576b\"],[0.6666666666666666,\"#ed7953\"],[0.7777777777777778,\"#fb9f3a\"],[0.8888888888888888,\"#fdca26\"],[1.0,\"#f0f921\"]],\"sequentialminus\":[[0.0,\"#0d0887\"],[0.1111111111111111,\"#46039f\"],[0.2222222222222222,\"#7201a8\"],[0.3333333333333333,\"#9c179e\"],[0.4444444444444444,\"#bd3786\"],[0.5555555555555556,\"#d8576b\"],[0.6666666666666666,\"#ed7953\"],[0.7777777777777778,\"#fb9f3a\"],[0.8888888888888888,\"#fdca26\"],[1.0,\"#f0f921\"]],\"diverging\":[[0,\"#8e0152\"],[0.1,\"#c51b7d\"],[0.2,\"#de77ae\"],[0.3,\"#f1b6da\"],[0.4,\"#fde0ef\"],[0.5,\"#f7f7f7\"],[0.6,\"#e6f5d0\"],[0.7,\"#b8e186\"],[0.8,\"#7fbc41\"],[0.9,\"#4d9221\"],[1,\"#276419\"]]},\"xaxis\":{\"gridcolor\":\"white\",\"linecolor\":\"white\",\"ticks\":\"\",\"title\":{\"standoff\":15},\"zerolinecolor\":\"white\",\"automargin\":true,\"zerolinewidth\":2},\"yaxis\":{\"gridcolor\":\"white\",\"linecolor\":\"white\",\"ticks\":\"\",\"title\":{\"standoff\":15},\"zerolinecolor\":\"white\",\"automargin\":true,\"zerolinewidth\":2},\"scene\":{\"xaxis\":{\"backgroundcolor\":\"#E5ECF6\",\"gridcolor\":\"white\",\"linecolor\":\"white\",\"showbackground\":true,\"ticks\":\"\",\"zerolinecolor\":\"white\",\"gridwidth\":2},\"yaxis\":{\"backgroundcolor\":\"#E5ECF6\",\"gridcolor\":\"white\",\"linecolor\":\"white\",\"showbackground\":true,\"ticks\":\"\",\"zerolinecolor\":\"white\",\"gridwidth\":2},\"zaxis\":{\"backgroundcolor\":\"#E5ECF6\",\"gridcolor\":\"white\",\"linecolor\":\"white\",\"showbackground\":true,\"ticks\":\"\",\"zerolinecolor\":\"white\",\"gridwidth\":2}},\"shapedefaults\":{\"line\":{\"color\":\"#2a3f5f\"}},\"annotationdefaults\":{\"arrowcolor\":\"#2a3f5f\",\"arrowhead\":0,\"arrowwidth\":1},\"geo\":{\"bgcolor\":\"white\",\"landcolor\":\"#E5ECF6\",\"subunitcolor\":\"white\",\"showland\":true,\"showlakes\":true,\"lakecolor\":\"white\"},\"title\":{\"x\":0.05},\"mapbox\":{\"style\":\"light\"}}},\"xaxis\":{\"anchor\":\"y\",\"domain\":[0.0,1.0],\"scaleanchor\":\"y\",\"constrain\":\"domain\"},\"yaxis\":{\"anchor\":\"x\",\"domain\":[0.0,1.0],\"autorange\":\"reversed\",\"constrain\":\"domain\"},\"coloraxis\":{\"colorscale\":[[0.0,\"rgb(103,0,31)\"],[0.1,\"rgb(178,24,43)\"],[0.2,\"rgb(214,96,77)\"],[0.3,\"rgb(244,165,130)\"],[0.4,\"rgb(253,219,199)\"],[0.5,\"rgb(247,247,247)\"],[0.6,\"rgb(209,229,240)\"],[0.7,\"rgb(146,197,222)\"],[0.8,\"rgb(67,147,195)\"],[0.9,\"rgb(33,102,172)\"],[1.0,\"rgb(5,48,97)\"]],\"cmin\":-1,\"cmax\":1},\"margin\":{\"t\":60}},                        {\"responsive\": true}                    )                };                            </script>        </div>"
      ],
      "text/plain": [
       "Figure({\n",
       "    'data': [{'coloraxis': 'coloraxis',\n",
       "              'hovertemplate': 'x: %{x}<br>y: %{y}<br>color: %{z}<extra></extra>',\n",
       "              'name': '0',\n",
       "              'type': 'heatmap',\n",
       "              'x': array(['Price', 'ConstructionYear', 'BedroomCount', 'LivingArea', 'Furnished',\n",
       "                          'Fireplace', 'Terrace', 'TerraceArea', 'Garden', 'GardenArea',\n",
       "                          'Facades', 'SwimmingPool', 'PopulationDensity'], dtype=object),\n",
       "              'xaxis': 'x',\n",
       "              'y': array(['Price', 'ConstructionYear', 'BedroomCount', 'LivingArea', 'Furnished',\n",
       "                          'Fireplace', 'Terrace', 'TerraceArea', 'Garden', 'GardenArea',\n",
       "                          'Facades', 'SwimmingPool', 'PopulationDensity'], dtype=object),\n",
       "              'yaxis': 'y',\n",
       "              'z': array([[ 1.00000000e+00,  8.30656768e-03,  3.49229067e-01,  2.15888072e-01,\n",
       "                            2.19359817e-02,  1.48205465e-03,  3.95172630e-02,  7.71332007e-02,\n",
       "                            2.54757024e-02,  1.52005368e-01,  1.75441317e-01,  2.18192743e-01,\n",
       "                            4.39865743e-02],\n",
       "                          [ 8.30656768e-03,  1.00000000e+00, -1.37300875e-01, -1.66979943e-01,\n",
       "                            7.57209743e-04, -5.70701009e-02,  1.08456228e-01,  2.25504472e-02,\n",
       "                           -1.13525033e-01, -7.51296739e-02,  8.74202315e-02,  3.14859126e-03,\n",
       "                           -1.43252110e-01],\n",
       "                          [ 3.49229067e-01, -1.37300875e-01,  1.00000000e+00,  2.37032388e-01,\n",
       "                           -1.84481157e-02,  4.82706053e-02,  1.24227699e-02,  3.53776734e-02,\n",
       "                            1.16477871e-01,  8.75412496e-02,  1.48763043e-01,  8.57652539e-02,\n",
       "                           -4.51287645e-02],\n",
       "                          [ 2.15888072e-01, -1.66979943e-01,  2.37032388e-01,  1.00000000e+00,\n",
       "                           -7.85085541e-03,  1.73502173e-02, -7.59821391e-03,  2.70681983e-02,\n",
       "                            3.46338757e-02,  5.84678477e-02,  8.36056146e-02,  6.91162789e-02,\n",
       "                           -1.57583587e-02],\n",
       "                          [ 2.19359817e-02,  7.57209743e-04, -1.84481157e-02, -7.85085541e-03,\n",
       "                            1.00000000e+00, -1.58989245e-02,  1.92421368e-02,  8.92907666e-03,\n",
       "                           -1.60911177e-02, -3.01055719e-03, -5.04135103e-02,  1.95778639e-02,\n",
       "                            2.70916086e-02],\n",
       "                          [ 1.48205465e-03, -5.70701009e-02,  4.82706053e-02,  1.73502173e-02,\n",
       "                           -1.58989245e-02,  1.00000000e+00,  4.64540308e-02,  1.96237021e-02,\n",
       "                            1.81704093e-01,  2.32693816e-02,  5.49679825e-02,  2.98389528e-02,\n",
       "                           -1.39281063e-02],\n",
       "                          [ 3.95172630e-02,  1.08456228e-01,  1.24227699e-02, -7.59821391e-03,\n",
       "                            1.92421368e-02,  4.64540308e-02,  1.00000000e+00,  1.96615456e-01,\n",
       "                            1.56853992e-01, -9.43319528e-03, -1.34588655e-02,  6.61615300e-02,\n",
       "                            5.90764202e-02],\n",
       "                          [ 7.71332007e-02,  2.25504472e-02,  3.53776734e-02,  2.70681983e-02,\n",
       "                            8.92907666e-03,  1.96237021e-02,  1.96615456e-01,  1.00000000e+00,\n",
       "                            1.06531120e-01,  1.53474086e-02,  3.97384782e-02,  6.18913212e-02,\n",
       "                            1.92019203e-02],\n",
       "                          [ 2.54757024e-02, -1.13525033e-01,  1.16477871e-01,  3.46338757e-02,\n",
       "                           -1.60911177e-02,  1.81704093e-01,  1.56853992e-01,  1.06531120e-01,\n",
       "                            1.00000000e+00,  1.99850686e-02,  8.10765704e-02,  7.11777452e-02,\n",
       "                           -4.14427663e-02],\n",
       "                          [ 1.52005368e-01, -7.51296739e-02,  8.75412496e-02,  5.84678477e-02,\n",
       "                           -3.01055719e-03,  2.32693816e-02, -9.43319528e-03,  1.53474086e-02,\n",
       "                            1.99850686e-02,  1.00000000e+00,  9.86688302e-02,  5.96398491e-02,\n",
       "                           -3.64041505e-02],\n",
       "                          [ 1.75441317e-01,  8.74202315e-02,  1.48763043e-01,  8.36056146e-02,\n",
       "                           -5.04135103e-02,  5.49679825e-02, -1.34588655e-02,  3.97384782e-02,\n",
       "                            8.10765704e-02,  9.86688302e-02,  1.00000000e+00,  1.64794318e-01,\n",
       "                           -2.53757576e-01],\n",
       "                          [ 2.18192743e-01,  3.14859126e-03,  8.57652539e-02,  6.91162789e-02,\n",
       "                            1.95778639e-02,  2.98389528e-02,  6.61615300e-02,  6.18913212e-02,\n",
       "                            7.11777452e-02,  5.96398491e-02,  1.64794318e-01,  1.00000000e+00,\n",
       "                           -3.25967338e-02],\n",
       "                          [ 4.39865743e-02, -1.43252110e-01, -4.51287645e-02, -1.57583587e-02,\n",
       "                            2.70916086e-02, -1.39281063e-02,  5.90764202e-02,  1.92019203e-02,\n",
       "                           -4.14427663e-02, -3.64041505e-02, -2.53757576e-01, -3.25967338e-02,\n",
       "                            1.00000000e+00]])}],\n",
       "    'layout': {'coloraxis': {'cmax': 1,\n",
       "                             'cmin': -1,\n",
       "                             'colorscale': [[0.0, 'rgb(103,0,31)'], [0.1,\n",
       "                                            'rgb(178,24,43)'], [0.2,\n",
       "                                            'rgb(214,96,77)'], [0.3,\n",
       "                                            'rgb(244,165,130)'], [0.4,\n",
       "                                            'rgb(253,219,199)'], [0.5,\n",
       "                                            'rgb(247,247,247)'], [0.6,\n",
       "                                            'rgb(209,229,240)'], [0.7,\n",
       "                                            'rgb(146,197,222)'], [0.8,\n",
       "                                            'rgb(67,147,195)'], [0.9,\n",
       "                                            'rgb(33,102,172)'], [1.0,\n",
       "                                            'rgb(5,48,97)']]},\n",
       "               'margin': {'t': 60},\n",
       "               'template': '...',\n",
       "               'xaxis': {'anchor': 'y', 'constrain': 'domain', 'domain': [0.0, 1.0], 'scaleanchor': 'y'},\n",
       "               'yaxis': {'anchor': 'x', 'autorange': 'reversed', 'constrain': 'domain', 'domain': [0.0, 1.0]}}\n",
       "})"
      ]
     },
     "execution_count": 30,
     "metadata": {},
     "output_type": "execute_result"
    }
   ],
   "source": [
    "to_cor = popdense_data[['Price', 'ConstructionYear', 'BedroomCount', 'LivingArea', 'Furnished', 'Fireplace', 'Terrace', 'TerraceArea', 'Garden',\n",
    "       'GardenArea', 'Facades', 'SwimmingPool', 'PopulationDensity']]\n",
    "px.imshow(to_cor.corr(numeric_only= True), \n",
    "          zmin= -1, zmax= 1, color_continuous_scale= 'rdbu')\n",
    "#  Set the text_auto argument to  to display text values for each cell"
   ]
  },
  {
   "cell_type": "markdown",
   "metadata": {},
   "source": [
    "## Cleaning the data: stats & differences"
   ]
  },
  {
   "cell_type": "code",
   "execution_count": null,
   "metadata": {},
   "outputs": [],
   "source": []
  },
  {
   "cell_type": "markdown",
   "metadata": {},
   "source": [
    "## Checking out population density"
   ]
  },
  {
   "cell_type": "code",
   "execution_count": 32,
   "metadata": {},
   "outputs": [
    {
     "ename": "ValueError",
     "evalue": "Mime type rendering requires nbformat>=4.2.0 but it is not installed",
     "output_type": "error",
     "traceback": [
      "\u001b[1;31m---------------------------------------------------------------------------\u001b[0m",
      "\u001b[1;31mValueError\u001b[0m                                Traceback (most recent call last)",
      "Cell \u001b[1;32mIn[32], line 2\u001b[0m\n\u001b[0;32m      1\u001b[0m fig \u001b[38;5;241m=\u001b[39m px\u001b[38;5;241m.\u001b[39mscatter(popdense_data, x\u001b[38;5;241m=\u001b[39m\u001b[38;5;124m'\u001b[39m\u001b[38;5;124mPopulationDensity\u001b[39m\u001b[38;5;124m'\u001b[39m, y\u001b[38;5;241m=\u001b[39m\u001b[38;5;124m'\u001b[39m\u001b[38;5;124mPrice\u001b[39m\u001b[38;5;124m'\u001b[39m, title\u001b[38;5;241m=\u001b[39m\u001b[38;5;124m'\u001b[39m\u001b[38;5;124mPrice vs Population Density\u001b[39m\u001b[38;5;124m'\u001b[39m)\n\u001b[1;32m----> 2\u001b[0m \u001b[43mfig\u001b[49m\u001b[38;5;241;43m.\u001b[39;49m\u001b[43mshow\u001b[49m\u001b[43m(\u001b[49m\u001b[43m)\u001b[49m\n",
      "File \u001b[1;32mc:\\Users\\Viktor C\\AppData\\Local\\Programs\\Python\\Python311\\Lib\\site-packages\\plotly\\basedatatypes.py:3410\u001b[0m, in \u001b[0;36mBaseFigure.show\u001b[1;34m(self, *args, **kwargs)\u001b[0m\n\u001b[0;32m   3377\u001b[0m \u001b[38;5;250m\u001b[39m\u001b[38;5;124;03m\"\"\"\u001b[39;00m\n\u001b[0;32m   3378\u001b[0m \u001b[38;5;124;03mShow a figure using either the default renderer(s) or the renderer(s)\u001b[39;00m\n\u001b[0;32m   3379\u001b[0m \u001b[38;5;124;03mspecified by the renderer argument\u001b[39;00m\n\u001b[1;32m   (...)\u001b[0m\n\u001b[0;32m   3406\u001b[0m \u001b[38;5;124;03mNone\u001b[39;00m\n\u001b[0;32m   3407\u001b[0m \u001b[38;5;124;03m\"\"\"\u001b[39;00m\n\u001b[0;32m   3408\u001b[0m \u001b[38;5;28;01mimport\u001b[39;00m \u001b[38;5;21;01mplotly\u001b[39;00m\u001b[38;5;21;01m.\u001b[39;00m\u001b[38;5;21;01mio\u001b[39;00m \u001b[38;5;28;01mas\u001b[39;00m \u001b[38;5;21;01mpio\u001b[39;00m\n\u001b[1;32m-> 3410\u001b[0m \u001b[38;5;28;01mreturn\u001b[39;00m \u001b[43mpio\u001b[49m\u001b[38;5;241;43m.\u001b[39;49m\u001b[43mshow\u001b[49m\u001b[43m(\u001b[49m\u001b[38;5;28;43mself\u001b[39;49m\u001b[43m,\u001b[49m\u001b[43m \u001b[49m\u001b[38;5;241;43m*\u001b[39;49m\u001b[43margs\u001b[49m\u001b[43m,\u001b[49m\u001b[43m \u001b[49m\u001b[38;5;241;43m*\u001b[39;49m\u001b[38;5;241;43m*\u001b[39;49m\u001b[43mkwargs\u001b[49m\u001b[43m)\u001b[49m\n",
      "File \u001b[1;32mc:\\Users\\Viktor C\\AppData\\Local\\Programs\\Python\\Python311\\Lib\\site-packages\\plotly\\io\\_renderers.py:394\u001b[0m, in \u001b[0;36mshow\u001b[1;34m(fig, renderer, validate, **kwargs)\u001b[0m\n\u001b[0;32m    389\u001b[0m         \u001b[38;5;28;01mraise\u001b[39;00m \u001b[38;5;167;01mValueError\u001b[39;00m(\n\u001b[0;32m    390\u001b[0m             \u001b[38;5;124m\"\u001b[39m\u001b[38;5;124mMime type rendering requires ipython but it is not installed\u001b[39m\u001b[38;5;124m\"\u001b[39m\n\u001b[0;32m    391\u001b[0m         )\n\u001b[0;32m    393\u001b[0m     \u001b[38;5;28;01mif\u001b[39;00m \u001b[38;5;129;01mnot\u001b[39;00m nbformat \u001b[38;5;129;01mor\u001b[39;00m Version(nbformat\u001b[38;5;241m.\u001b[39m__version__) \u001b[38;5;241m<\u001b[39m Version(\u001b[38;5;124m\"\u001b[39m\u001b[38;5;124m4.2.0\u001b[39m\u001b[38;5;124m\"\u001b[39m):\n\u001b[1;32m--> 394\u001b[0m         \u001b[38;5;28;01mraise\u001b[39;00m \u001b[38;5;167;01mValueError\u001b[39;00m(\n\u001b[0;32m    395\u001b[0m             \u001b[38;5;124m\"\u001b[39m\u001b[38;5;124mMime type rendering requires nbformat>=4.2.0 but it is not installed\u001b[39m\u001b[38;5;124m\"\u001b[39m\n\u001b[0;32m    396\u001b[0m         )\n\u001b[0;32m    398\u001b[0m     ipython_display\u001b[38;5;241m.\u001b[39mdisplay(bundle, raw\u001b[38;5;241m=\u001b[39m\u001b[38;5;28;01mTrue\u001b[39;00m)\n\u001b[0;32m    400\u001b[0m \u001b[38;5;66;03m# external renderers\u001b[39;00m\n",
      "\u001b[1;31mValueError\u001b[0m: Mime type rendering requires nbformat>=4.2.0 but it is not installed"
     ]
    }
   ],
   "source": [
    "fig = px.scatter(popdense_data, x='PopulationDensity', y='Price', title='Price vs Population Density')\n",
    "fig.show()"
   ]
  }
 ],
 "metadata": {
  "kernelspec": {
   "display_name": "Python 3",
   "language": "python",
   "name": "python3"
  },
  "language_info": {
   "codemirror_mode": {
    "name": "ipython",
    "version": 3
   },
   "file_extension": ".py",
   "mimetype": "text/x-python",
   "name": "python",
   "nbconvert_exporter": "python",
   "pygments_lexer": "ipython3",
   "version": "3.11.4"
  }
 },
 "nbformat": 4,
 "nbformat_minor": 2
}
