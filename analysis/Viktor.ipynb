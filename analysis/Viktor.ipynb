{
 "cells": [
  {
   "cell_type": "code",
   "execution_count": 2,
   "metadata": {},
   "outputs": [],
   "source": [
    "# Setup\n",
    "import pandas as pd\n",
    "\n",
    "raw_data = pd.read_csv(\"https://raw.githubusercontent.com/bear-revels/immo-eliza-scraping-Python_Pricers/main/data/all_property_details.csv\")"
   ]
  },
  {
   "cell_type": "code",
   "execution_count": null,
   "metadata": {},
   "outputs": [],
   "source": [
    "raw_data.head()"
   ]
  },
  {
   "cell_type": "code",
   "execution_count": null,
   "metadata": {},
   "outputs": [],
   "source": [
    "raw_data.notnull().sum()"
   ]
  },
  {
   "cell_type": "code",
   "execution_count": null,
   "metadata": {},
   "outputs": [],
   "source": [
    "raw_data.isna().sum() "
   ]
  },
  {
   "cell_type": "code",
   "execution_count": null,
   "metadata": {},
   "outputs": [],
   "source": [
    "raw_data[raw_data['Street'].str.contains('�', na=False)]"
   ]
  },
  {
   "cell_type": "code",
   "execution_count": 24,
   "metadata": {},
   "outputs": [
    {
     "data": {
      "text/plain": [
       "Index(['ID', 'Street', 'HouseNumber', 'Box', 'Floor', 'City', 'PostalCode',\n",
       "       'Region', 'District', 'Province', 'PropertyType', 'PropertySubType',\n",
       "       'Price', 'SaleType', 'ConstructionYear', 'BedroomCount', 'LivingArea',\n",
       "       'KitchenType', 'Furnished', 'Fireplace', 'Terrace', 'TerraceArea',\n",
       "       'Garden', 'GardenArea', 'Facades', 'SwimmingPool', 'Condition',\n",
       "       'EPCScore', 'Latitude', 'Longitude', 'PropertyUrl', 'Property url'],\n",
       "      dtype='object')"
      ]
     },
     "execution_count": 24,
     "metadata": {},
     "output_type": "execute_result"
    }
   ],
   "source": [
    "raw_data.columns"
   ]
  },
  {
   "cell_type": "code",
   "execution_count": 8,
   "metadata": {},
   "outputs": [
    {
     "data": {
      "text/plain": [
       "array(['HOUSE', 'VILLA', 'MANSION', 'APARTMENT_BLOCK',\n",
       "       'MIXED_USE_BUILDING', 'EXCEPTIONAL_PROPERTY', 'TOWN_HOUSE',\n",
       "       'MANOR_HOUSE', 'BUNGALOW', 'COUNTRY_COTTAGE', 'FARMHOUSE',\n",
       "       'CASTLE', 'OTHER_PROPERTY', 'CHALET', 'APARTMENT', 'PENTHOUSE',\n",
       "       'DUPLEX', 'FLAT_STUDIO', 'SERVICE_FLAT', 'TRIPLEX', 'KOT',\n",
       "       'GROUND_FLOOR', 'LOFT'], dtype=object)"
      ]
     },
     "execution_count": 8,
     "metadata": {},
     "output_type": "execute_result"
    }
   ],
   "source": [
    "raw_data['PropertySubType'].unique()\n"
   ]
  },
  {
   "cell_type": "code",
   "execution_count": 10,
   "metadata": {},
   "outputs": [
    {
     "data": {
      "text/plain": [
       "array(['Nivelles', 'Dinant', 'Brussels', 'Gent', 'Dendermonde',\n",
       "       'Mechelen', 'Li�ge', 'Leuven', 'Oudenaarde', 'Marche-en-Famenne',\n",
       "       'Antwerp', 'Sint-Niklaas', 'Arlon', 'Neufch�teau', 'Waremme',\n",
       "       'Verviers', 'Huy', 'Halle-Vilvoorde', 'Bastogne', 'Aalst',\n",
       "       'Oostend', 'Soignies', 'Brugge', 'Tielt', 'Charleroi', 'Thuin',\n",
       "       'Virton', 'Kortrijk', 'Mons', 'Turnhout', 'Tournai', 'Namur',\n",
       "       'Roeselare', 'Mouscron', 'Maaseik', 'Ath', 'Tongeren', 'Eeklo',\n",
       "       'Veurne', 'Hasselt', 'Philippeville', 'Ieper', 'Diksmuide'],\n",
       "      dtype=object)"
      ]
     },
     "execution_count": 10,
     "metadata": {},
     "output_type": "execute_result"
    }
   ],
   "source": [
    "raw_data['District'].unique()"
   ]
  }
 ],
 "metadata": {
  "kernelspec": {
   "display_name": "Python 3",
   "language": "python",
   "name": "python3"
  },
  "language_info": {
   "codemirror_mode": {
    "name": "ipython",
    "version": 3
   },
   "file_extension": ".py",
   "mimetype": "text/x-python",
   "name": "python",
   "nbconvert_exporter": "python",
   "pygments_lexer": "ipython3",
   "version": "3.11.4"
  }
 },
 "nbformat": 4,
 "nbformat_minor": 2
}
