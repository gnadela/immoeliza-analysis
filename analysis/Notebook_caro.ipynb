{
 "cells": [
  {
   "cell_type": "markdown",
   "metadata": {},
   "source": [
    "First import the csv data from previous step: Immo-eliza- Data-Scraper, we could import the data by copy past in the new project or collect the url from previous project to stay up to date white the date"
   ]
  },
  {
   "cell_type": "code",
   "execution_count": 2,
   "metadata": {},
   "outputs": [
    {
     "name": "stdout",
     "output_type": "stream",
     "text": [
      "This is an example of the raw data we would handle.\n"
     ]
    },
    {
     "data": {
      "text/html": [
       "<div>\n",
       "<style scoped>\n",
       "    .dataframe tbody tr th:only-of-type {\n",
       "        vertical-align: middle;\n",
       "    }\n",
       "\n",
       "    .dataframe tbody tr th {\n",
       "        vertical-align: top;\n",
       "    }\n",
       "\n",
       "    .dataframe thead th {\n",
       "        text-align: right;\n",
       "    }\n",
       "</style>\n",
       "<table border=\"1\" class=\"dataframe\">\n",
       "  <thead>\n",
       "    <tr style=\"text-align: right;\">\n",
       "      <th></th>\n",
       "      <th>ID</th>\n",
       "      <th>Street</th>\n",
       "      <th>HouseNumber</th>\n",
       "      <th>Box</th>\n",
       "      <th>Floor</th>\n",
       "      <th>City</th>\n",
       "      <th>PostalCode</th>\n",
       "      <th>Region</th>\n",
       "      <th>District</th>\n",
       "      <th>Province</th>\n",
       "      <th>...</th>\n",
       "      <th>Garden</th>\n",
       "      <th>GardenArea</th>\n",
       "      <th>Facades</th>\n",
       "      <th>SwimmingPool</th>\n",
       "      <th>Condition</th>\n",
       "      <th>EPCScore</th>\n",
       "      <th>Latitude</th>\n",
       "      <th>Longitude</th>\n",
       "      <th>PropertyUrl</th>\n",
       "      <th>Property url</th>\n",
       "    </tr>\n",
       "  </thead>\n",
       "  <tbody>\n",
       "    <tr>\n",
       "      <th>0</th>\n",
       "      <td>11132404</td>\n",
       "      <td>Rue de Sart</td>\n",
       "      <td>76</td>\n",
       "      <td>NaN</td>\n",
       "      <td>NaN</td>\n",
       "      <td>COURT-SAINT-ETIENNE</td>\n",
       "      <td>1490</td>\n",
       "      <td>WALLONIE</td>\n",
       "      <td>Nivelles</td>\n",
       "      <td>Walloon Brabant</td>\n",
       "      <td>...</td>\n",
       "      <td>1.0</td>\n",
       "      <td>1333.0</td>\n",
       "      <td>4.0</td>\n",
       "      <td>NaN</td>\n",
       "      <td>JUST_RENOVATED</td>\n",
       "      <td>D</td>\n",
       "      <td>50.624459</td>\n",
       "      <td>4.562738</td>\n",
       "      <td>NaN</td>\n",
       "      <td>https://www.immoweb.be/en/classified/house/for...</td>\n",
       "    </tr>\n",
       "    <tr>\n",
       "      <th>1</th>\n",
       "      <td>10820901</td>\n",
       "      <td>Rue de Trisogne</td>\n",
       "      <td>15</td>\n",
       "      <td>D</td>\n",
       "      <td>NaN</td>\n",
       "      <td>Ciney</td>\n",
       "      <td>5590</td>\n",
       "      <td>WALLONIE</td>\n",
       "      <td>Dinant</td>\n",
       "      <td>Namur</td>\n",
       "      <td>...</td>\n",
       "      <td>NaN</td>\n",
       "      <td>736.0</td>\n",
       "      <td>3.0</td>\n",
       "      <td>NaN</td>\n",
       "      <td>AS_NEW</td>\n",
       "      <td>A</td>\n",
       "      <td>50.281860</td>\n",
       "      <td>5.167839</td>\n",
       "      <td>NaN</td>\n",
       "      <td>https://www.immoweb.be/en/classified/villa/for...</td>\n",
       "    </tr>\n",
       "    <tr>\n",
       "      <th>2</th>\n",
       "      <td>11080049</td>\n",
       "      <td>Chauss�e de Mons</td>\n",
       "      <td>747</td>\n",
       "      <td>NaN</td>\n",
       "      <td>NaN</td>\n",
       "      <td>Anderlecht</td>\n",
       "      <td>1070</td>\n",
       "      <td>BRUSSELS</td>\n",
       "      <td>Brussels</td>\n",
       "      <td>Brussels</td>\n",
       "      <td>...</td>\n",
       "      <td>NaN</td>\n",
       "      <td>91.0</td>\n",
       "      <td>2.0</td>\n",
       "      <td>0.0</td>\n",
       "      <td>TO_BE_DONE_UP</td>\n",
       "      <td>F</td>\n",
       "      <td>50.829926</td>\n",
       "      <td>4.307101</td>\n",
       "      <td>NaN</td>\n",
       "      <td>https://www.immoweb.be/en/classified/house/for...</td>\n",
       "    </tr>\n",
       "    <tr>\n",
       "      <th>3</th>\n",
       "      <td>11137923</td>\n",
       "      <td>Braambezielaan</td>\n",
       "      <td>10</td>\n",
       "      <td>NaN</td>\n",
       "      <td>NaN</td>\n",
       "      <td>Gent Wondelgem</td>\n",
       "      <td>9032</td>\n",
       "      <td>FLANDERS</td>\n",
       "      <td>Gent</td>\n",
       "      <td>East Flanders</td>\n",
       "      <td>...</td>\n",
       "      <td>1.0</td>\n",
       "      <td>261.0</td>\n",
       "      <td>2.0</td>\n",
       "      <td>0.0</td>\n",
       "      <td>AS_NEW</td>\n",
       "      <td>D</td>\n",
       "      <td>51.080022</td>\n",
       "      <td>3.702782</td>\n",
       "      <td>NaN</td>\n",
       "      <td>https://www.immoweb.be/en/classified/house/for...</td>\n",
       "    </tr>\n",
       "    <tr>\n",
       "      <th>4</th>\n",
       "      <td>11139236</td>\n",
       "      <td>Lindanusstraat</td>\n",
       "      <td>39</td>\n",
       "      <td>NaN</td>\n",
       "      <td>NaN</td>\n",
       "      <td>Dendermonde</td>\n",
       "      <td>9200</td>\n",
       "      <td>FLANDERS</td>\n",
       "      <td>Dendermonde</td>\n",
       "      <td>East Flanders</td>\n",
       "      <td>...</td>\n",
       "      <td>1.0</td>\n",
       "      <td>215.0</td>\n",
       "      <td>2.0</td>\n",
       "      <td>NaN</td>\n",
       "      <td>TO_BE_DONE_UP</td>\n",
       "      <td>E</td>\n",
       "      <td>51.028484</td>\n",
       "      <td>4.103270</td>\n",
       "      <td>NaN</td>\n",
       "      <td>https://www.immoweb.be/en/classified/mansion/f...</td>\n",
       "    </tr>\n",
       "  </tbody>\n",
       "</table>\n",
       "<p>5 rows × 32 columns</p>\n",
       "</div>"
      ],
      "text/plain": [
       "         ID            Street HouseNumber  Box  Floor                 City  \\\n",
       "0  11132404       Rue de Sart          76  NaN    NaN  COURT-SAINT-ETIENNE   \n",
       "1  10820901   Rue de Trisogne          15    D    NaN                Ciney   \n",
       "2  11080049  Chauss�e de Mons         747  NaN    NaN           Anderlecht   \n",
       "3  11137923    Braambezielaan          10  NaN    NaN       Gent Wondelgem   \n",
       "4  11139236    Lindanusstraat          39  NaN    NaN          Dendermonde   \n",
       "\n",
       "   PostalCode    Region     District         Province  ... Garden GardenArea  \\\n",
       "0        1490  WALLONIE     Nivelles  Walloon Brabant  ...    1.0     1333.0   \n",
       "1        5590  WALLONIE       Dinant            Namur  ...    NaN      736.0   \n",
       "2        1070  BRUSSELS     Brussels         Brussels  ...    NaN       91.0   \n",
       "3        9032  FLANDERS         Gent    East Flanders  ...    1.0      261.0   \n",
       "4        9200  FLANDERS  Dendermonde    East Flanders  ...    1.0      215.0   \n",
       "\n",
       "   Facades SwimmingPool       Condition  EPCScore   Latitude Longitude  \\\n",
       "0      4.0          NaN  JUST_RENOVATED         D  50.624459  4.562738   \n",
       "1      3.0          NaN          AS_NEW         A  50.281860  5.167839   \n",
       "2      2.0          0.0   TO_BE_DONE_UP         F  50.829926  4.307101   \n",
       "3      2.0          0.0          AS_NEW         D  51.080022  3.702782   \n",
       "4      2.0          NaN   TO_BE_DONE_UP         E  51.028484  4.103270   \n",
       "\n",
       "   PropertyUrl                                       Property url  \n",
       "0          NaN  https://www.immoweb.be/en/classified/house/for...  \n",
       "1          NaN  https://www.immoweb.be/en/classified/villa/for...  \n",
       "2          NaN  https://www.immoweb.be/en/classified/house/for...  \n",
       "3          NaN  https://www.immoweb.be/en/classified/house/for...  \n",
       "4          NaN  https://www.immoweb.be/en/classified/mansion/f...  \n",
       "\n",
       "[5 rows x 32 columns]"
      ]
     },
     "execution_count": 2,
     "metadata": {},
     "output_type": "execute_result"
    }
   ],
   "source": [
    "import pandas as pd\n",
    "import seaborn as sns\n",
    "\n",
    "#We want to us previous data (so link) from scraper, so if that updates, this will to.\n",
    "root_url = \"https://raw.githubusercontent.com/CarolineVHK/immo-eliza-scraping-Python_Pricers/main/data/all_property_details.csv\"\n",
    "data = pd.read_csv(root_url)\n",
    "print(\"This is an example of the raw data we would handle.\")\n",
    "data.head()"
   ]
  },
  {
   "cell_type": "markdown",
   "metadata": {},
   "source": [
    "Now that we have the raw data we want to see which data is missing, which data we want to use and how we want to use it. "
   ]
  },
  {
   "cell_type": "code",
   "execution_count": null,
   "metadata": {},
   "outputs": [],
   "source": [
    "data.isna().sum()"
   ]
  },
  {
   "cell_type": "markdown",
   "metadata": {},
   "source": [
    "Checking for duplicates"
   ]
  },
  {
   "cell_type": "code",
   "execution_count": null,
   "metadata": {},
   "outputs": [],
   "source": [
    "#Find duplicates:\n",
    "duplicates = data[data.duplicated()]\n",
    "#print(\"Those are the duplicates : \\n\", duplicates['ID'])\n",
    "#print(\"There are, \", (duplicates.count()), \"duplicates.\")\n",
    "#Remove duplicates:\n",
    "data_remove_dup = data.drop_duplicates(duplicates)\n",
    "print(data_remove_dup)"
   ]
  },
  {
   "cell_type": "code",
   "execution_count": null,
   "metadata": {},
   "outputs": [],
   "source": [
    "#check duplicates gone\n",
    "duplicates_check = data_remove_dup[data_remove_dup.duplicated()]\n",
    "print(duplicates_check)"
   ]
  },
  {
   "cell_type": "markdown",
   "metadata": {},
   "source": [
    "cleaning data é, â,  is changed into ?\n",
    "1. do it like a function in the previous step while scraping and befor putting it into the dictionary\n",
    "--> DONOT change afterwards, a broken file can't be fixed without source data\n"
   ]
  },
  {
   "cell_type": "code",
   "execution_count": null,
   "metadata": {},
   "outputs": [],
   "source": [
    "data = None\n",
    "#list of encoding types:\n",
    "encodings = ['utf-8', 'latin1', 'iso-8859-1']\n",
    "#read file trought encoding\n",
    "for encoding in encodings:\n",
    "    try:\n",
    "        data = pd.read_csv(root_url, encoding=encoding)\n",
    "        print(\"Successfully read using encoding:\", encoding)\n",
    "        break\n",
    "    except Exception as e:\n",
    "        print(\"Error reading with encoding {}: {}\".format(encoding, e))\n",
    "if data is not None:\n",
    "    data_clean_special_characters = 'new_data.csv'\n",
    "    data.to_csv(data_clean_special_characters, index=False)\n",
    "    print(\"New CSV file '{}' created successfully.\".format(data_clean_special_characters))"
   ]
  },
  {
   "cell_type": "markdown",
   "metadata": {},
   "source": [
    "Checking wich data we have scraped and what I want to visualize:"
   ]
  },
  {
   "cell_type": "code",
   "execution_count": null,
   "metadata": {},
   "outputs": [],
   "source": [
    "print(\" -- What columns do I have: -- \")\n",
    "data.columns"
   ]
  },
  {
   "cell_type": "markdown",
   "metadata": {},
   "source": []
  }
 ],
 "metadata": {
  "kernelspec": {
   "display_name": "Python 3",
   "language": "python",
   "name": "python3"
  },
  "language_info": {
   "codemirror_mode": {
    "name": "ipython",
    "version": 3
   },
   "file_extension": ".py",
   "mimetype": "text/x-python",
   "name": "python",
   "nbconvert_exporter": "python",
   "pygments_lexer": "ipython3",
   "version": "3.11.7"
  }
 },
 "nbformat": 4,
 "nbformat_minor": 2
}
